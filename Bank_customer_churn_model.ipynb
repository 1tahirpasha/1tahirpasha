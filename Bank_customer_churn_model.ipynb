{
  "metadata": {
    "kernelspec": {
      "language": "python",
      "display_name": "Python 3",
      "name": "python3"
    },
    "language_info": {
      "name": "python",
      "version": "3.10.13",
      "mimetype": "text/x-python",
      "codemirror_mode": {
        "name": "ipython",
        "version": 3
      },
      "pygments_lexer": "ipython3",
      "nbconvert_exporter": "python",
      "file_extension": ".py"
    },
    "kaggle": {
      "accelerator": "none",
      "dataSources": [],
      "dockerImageVersionId": 30732,
      "isInternetEnabled": true,
      "language": "python",
      "sourceType": "notebook",
      "isGpuEnabled": false
    },
    "colab": {
      "name": "Bank customer churn model",
      "provenance": [],
      "include_colab_link": true
    }
  },
  "nbformat_minor": 0,
  "nbformat": 4,
  "cells": [
    {
      "cell_type": "markdown",
      "metadata": {
        "id": "view-in-github",
        "colab_type": "text"
      },
      "source": [
        "<a href=\"https://colab.research.google.com/github/1tahirpasha/1tahirpasha/blob/main/Bank_customer_churn_model.ipynb\" target=\"_parent\"><img src=\"https://colab.research.google.com/assets/colab-badge.svg\" alt=\"Open In Colab\"/></a>"
      ]
    },
    {
      "cell_type": "markdown",
      "source": [
        "IMPORT LIBRARY"
      ],
      "metadata": {
        "id": "mAd59s8sdb7G"
      }
    },
    {
      "cell_type": "code",
      "source": [],
      "metadata": {
        "trusted": true,
        "id": "RM1MjJZwdb7M"
      },
      "outputs": [],
      "execution_count": null
    },
    {
      "cell_type": "code",
      "source": [
        "import pandas as pd"
      ],
      "metadata": {
        "execution": {
          "iopub.status.busy": "2024-07-16T01:44:41.582359Z",
          "iopub.execute_input": "2024-07-16T01:44:41.583267Z",
          "iopub.status.idle": "2024-07-16T01:44:42.725345Z",
          "shell.execute_reply.started": "2024-07-16T01:44:41.583229Z",
          "shell.execute_reply": "2024-07-16T01:44:42.724372Z"
        },
        "trusted": true,
        "id": "Gl6jEPKmdb7N"
      },
      "outputs": [],
      "execution_count": null
    },
    {
      "cell_type": "code",
      "source": [
        "import numpy as np"
      ],
      "metadata": {
        "execution": {
          "iopub.status.busy": "2024-07-16T01:44:42.727162Z",
          "iopub.execute_input": "2024-07-16T01:44:42.727596Z",
          "iopub.status.idle": "2024-07-16T01:44:42.732301Z",
          "shell.execute_reply.started": "2024-07-16T01:44:42.727567Z",
          "shell.execute_reply": "2024-07-16T01:44:42.731295Z"
        },
        "trusted": true,
        "id": "BmTWOMeadb7O"
      },
      "outputs": [],
      "execution_count": null
    },
    {
      "cell_type": "code",
      "source": [
        "import matplotlib.pyplot as plt"
      ],
      "metadata": {
        "execution": {
          "iopub.status.busy": "2024-07-16T01:44:42.738862Z",
          "iopub.execute_input": "2024-07-16T01:44:42.739694Z",
          "iopub.status.idle": "2024-07-16T01:44:42.744991Z",
          "shell.execute_reply.started": "2024-07-16T01:44:42.739651Z",
          "shell.execute_reply": "2024-07-16T01:44:42.743885Z"
        },
        "trusted": true,
        "id": "ehHXhZRFdb7P"
      },
      "outputs": [],
      "execution_count": null
    },
    {
      "cell_type": "code",
      "source": [
        "import seaborn as sns"
      ],
      "metadata": {
        "execution": {
          "iopub.status.busy": "2024-07-16T01:44:42.74643Z",
          "iopub.execute_input": "2024-07-16T01:44:42.746758Z",
          "iopub.status.idle": "2024-07-16T01:44:44.100442Z",
          "shell.execute_reply.started": "2024-07-16T01:44:42.746727Z",
          "shell.execute_reply": "2024-07-16T01:44:44.099399Z"
        },
        "trusted": true,
        "id": "oQAH1A4Wdb7P"
      },
      "outputs": [],
      "execution_count": null
    },
    {
      "cell_type": "code",
      "source": [
        "df = pd.read_csv('https://github.com/YBI-Foundation/Dataset/raw/main/Bank%20Churn%20Modelling.csv')"
      ],
      "metadata": {
        "execution": {
          "iopub.status.busy": "2024-07-16T01:44:44.101662Z",
          "iopub.execute_input": "2024-07-16T01:44:44.102007Z",
          "iopub.status.idle": "2024-07-16T01:44:44.764259Z",
          "shell.execute_reply.started": "2024-07-16T01:44:44.101978Z",
          "shell.execute_reply": "2024-07-16T01:44:44.76319Z"
        },
        "trusted": true,
        "id": "OZdhkh_vdb7P"
      },
      "outputs": [],
      "execution_count": null
    },
    {
      "cell_type": "code",
      "source": [
        "df.head()"
      ],
      "metadata": {
        "execution": {
          "iopub.status.busy": "2024-07-16T01:44:44.765692Z",
          "iopub.execute_input": "2024-07-16T01:44:44.766043Z",
          "iopub.status.idle": "2024-07-16T01:44:44.794202Z",
          "shell.execute_reply.started": "2024-07-16T01:44:44.766012Z",
          "shell.execute_reply": "2024-07-16T01:44:44.79299Z"
        },
        "trusted": true,
        "id": "7N9ytC_Cdb7Q",
        "outputId": "cbe93ac4-caa6-4b03-eef0-4fd2f3ea12be"
      },
      "outputs": [
        {
          "execution_count": 6,
          "output_type": "execute_result",
          "data": {
            "text/plain": "   CustomerId   Surname  CreditScore Geography  Gender  Age  Tenure  \\\n0    15634602  Hargrave          619    France  Female   42       2   \n1    15647311      Hill          608     Spain  Female   41       1   \n2    15619304      Onio          502    France  Female   42       8   \n3    15701354      Boni          699    France  Female   39       1   \n4    15737888  Mitchell          850     Spain  Female   43       2   \n\n     Balance  Num Of Products  Has Credit Card  Is Active Member  \\\n0       0.00                1                1                 1   \n1   83807.86                1                0                 1   \n2  159660.80                3                1                 0   \n3       0.00                2                0                 0   \n4  125510.82                1                1                 1   \n\n   Estimated Salary  Churn  \n0         101348.88      1  \n1         112542.58      0  \n2         113931.57      1  \n3          93826.63      0  \n4          79084.10      0  ",
            "text/html": "<div>\n<style scoped>\n    .dataframe tbody tr th:only-of-type {\n        vertical-align: middle;\n    }\n\n    .dataframe tbody tr th {\n        vertical-align: top;\n    }\n\n    .dataframe thead th {\n        text-align: right;\n    }\n</style>\n<table border=\"1\" class=\"dataframe\">\n  <thead>\n    <tr style=\"text-align: right;\">\n      <th></th>\n      <th>CustomerId</th>\n      <th>Surname</th>\n      <th>CreditScore</th>\n      <th>Geography</th>\n      <th>Gender</th>\n      <th>Age</th>\n      <th>Tenure</th>\n      <th>Balance</th>\n      <th>Num Of Products</th>\n      <th>Has Credit Card</th>\n      <th>Is Active Member</th>\n      <th>Estimated Salary</th>\n      <th>Churn</th>\n    </tr>\n  </thead>\n  <tbody>\n    <tr>\n      <th>0</th>\n      <td>15634602</td>\n      <td>Hargrave</td>\n      <td>619</td>\n      <td>France</td>\n      <td>Female</td>\n      <td>42</td>\n      <td>2</td>\n      <td>0.00</td>\n      <td>1</td>\n      <td>1</td>\n      <td>1</td>\n      <td>101348.88</td>\n      <td>1</td>\n    </tr>\n    <tr>\n      <th>1</th>\n      <td>15647311</td>\n      <td>Hill</td>\n      <td>608</td>\n      <td>Spain</td>\n      <td>Female</td>\n      <td>41</td>\n      <td>1</td>\n      <td>83807.86</td>\n      <td>1</td>\n      <td>0</td>\n      <td>1</td>\n      <td>112542.58</td>\n      <td>0</td>\n    </tr>\n    <tr>\n      <th>2</th>\n      <td>15619304</td>\n      <td>Onio</td>\n      <td>502</td>\n      <td>France</td>\n      <td>Female</td>\n      <td>42</td>\n      <td>8</td>\n      <td>159660.80</td>\n      <td>3</td>\n      <td>1</td>\n      <td>0</td>\n      <td>113931.57</td>\n      <td>1</td>\n    </tr>\n    <tr>\n      <th>3</th>\n      <td>15701354</td>\n      <td>Boni</td>\n      <td>699</td>\n      <td>France</td>\n      <td>Female</td>\n      <td>39</td>\n      <td>1</td>\n      <td>0.00</td>\n      <td>2</td>\n      <td>0</td>\n      <td>0</td>\n      <td>93826.63</td>\n      <td>0</td>\n    </tr>\n    <tr>\n      <th>4</th>\n      <td>15737888</td>\n      <td>Mitchell</td>\n      <td>850</td>\n      <td>Spain</td>\n      <td>Female</td>\n      <td>43</td>\n      <td>2</td>\n      <td>125510.82</td>\n      <td>1</td>\n      <td>1</td>\n      <td>1</td>\n      <td>79084.10</td>\n      <td>0</td>\n    </tr>\n  </tbody>\n</table>\n</div>"
          },
          "metadata": {}
        }
      ],
      "execution_count": null
    },
    {
      "cell_type": "code",
      "source": [
        "df.info()"
      ],
      "metadata": {
        "execution": {
          "iopub.status.busy": "2024-07-16T01:44:44.7958Z",
          "iopub.execute_input": "2024-07-16T01:44:44.796226Z",
          "iopub.status.idle": "2024-07-16T01:44:44.824856Z",
          "shell.execute_reply.started": "2024-07-16T01:44:44.79619Z",
          "shell.execute_reply": "2024-07-16T01:44:44.823759Z"
        },
        "trusted": true,
        "id": "_wELI_uFdb7S",
        "outputId": "99f5a8f7-bef8-4309-a226-c94065fbf844"
      },
      "outputs": [
        {
          "name": "stdout",
          "text": "<class 'pandas.core.frame.DataFrame'>\nRangeIndex: 10000 entries, 0 to 9999\nData columns (total 13 columns):\n #   Column            Non-Null Count  Dtype  \n---  ------            --------------  -----  \n 0   CustomerId        10000 non-null  int64  \n 1   Surname           10000 non-null  object \n 2   CreditScore       10000 non-null  int64  \n 3   Geography         10000 non-null  object \n 4   Gender            10000 non-null  object \n 5   Age               10000 non-null  int64  \n 6   Tenure            10000 non-null  int64  \n 7   Balance           10000 non-null  float64\n 8   Num Of Products   10000 non-null  int64  \n 9   Has Credit Card   10000 non-null  int64  \n 10  Is Active Member  10000 non-null  int64  \n 11  Estimated Salary  10000 non-null  float64\n 12  Churn             10000 non-null  int64  \ndtypes: float64(2), int64(8), object(3)\nmemory usage: 1015.8+ KB\n",
          "output_type": "stream"
        }
      ],
      "execution_count": null
    },
    {
      "cell_type": "code",
      "source": [
        "df.duplicated('CustomerId').sum()"
      ],
      "metadata": {
        "execution": {
          "iopub.status.busy": "2024-07-16T01:44:44.826134Z",
          "iopub.execute_input": "2024-07-16T01:44:44.826444Z",
          "iopub.status.idle": "2024-07-16T01:44:44.833901Z",
          "shell.execute_reply.started": "2024-07-16T01:44:44.826416Z",
          "shell.execute_reply": "2024-07-16T01:44:44.832798Z"
        },
        "trusted": true,
        "id": "QM3105zTdb7T",
        "outputId": "cbc3f536-6ab4-44b5-ed19-e9a1287c6f9b"
      },
      "outputs": [
        {
          "execution_count": 8,
          "output_type": "execute_result",
          "data": {
            "text/plain": "0"
          },
          "metadata": {}
        }
      ],
      "execution_count": null
    },
    {
      "cell_type": "code",
      "source": [
        "df = df.set_index('CustomerId')"
      ],
      "metadata": {
        "execution": {
          "iopub.status.busy": "2024-07-16T01:44:44.837831Z",
          "iopub.execute_input": "2024-07-16T01:44:44.838209Z",
          "iopub.status.idle": "2024-07-16T01:44:44.846308Z",
          "shell.execute_reply.started": "2024-07-16T01:44:44.838179Z",
          "shell.execute_reply": "2024-07-16T01:44:44.845295Z"
        },
        "trusted": true,
        "id": "Y9Anxuv1db7T"
      },
      "outputs": [],
      "execution_count": null
    },
    {
      "cell_type": "code",
      "source": [
        "df.info()"
      ],
      "metadata": {
        "execution": {
          "iopub.status.busy": "2024-07-16T01:44:44.847691Z",
          "iopub.execute_input": "2024-07-16T01:44:44.848109Z",
          "iopub.status.idle": "2024-07-16T01:44:44.872381Z",
          "shell.execute_reply.started": "2024-07-16T01:44:44.848076Z",
          "shell.execute_reply": "2024-07-16T01:44:44.870934Z"
        },
        "trusted": true,
        "id": "CjZnC8bedb7U",
        "outputId": "b7ad9933-a43b-4543-bffa-637c1dc7ca9f"
      },
      "outputs": [
        {
          "name": "stdout",
          "text": "<class 'pandas.core.frame.DataFrame'>\nIndex: 10000 entries, 15634602 to 15628319\nData columns (total 12 columns):\n #   Column            Non-Null Count  Dtype  \n---  ------            --------------  -----  \n 0   Surname           10000 non-null  object \n 1   CreditScore       10000 non-null  int64  \n 2   Geography         10000 non-null  object \n 3   Gender            10000 non-null  object \n 4   Age               10000 non-null  int64  \n 5   Tenure            10000 non-null  int64  \n 6   Balance           10000 non-null  float64\n 7   Num Of Products   10000 non-null  int64  \n 8   Has Credit Card   10000 non-null  int64  \n 9   Is Active Member  10000 non-null  int64  \n 10  Estimated Salary  10000 non-null  float64\n 11  Churn             10000 non-null  int64  \ndtypes: float64(2), int64(7), object(3)\nmemory usage: 1015.6+ KB\n",
          "output_type": "stream"
        }
      ],
      "execution_count": null
    },
    {
      "cell_type": "code",
      "source": [
        "df['Geography'].value_counts()"
      ],
      "metadata": {
        "execution": {
          "iopub.status.busy": "2024-07-16T01:44:44.87426Z",
          "iopub.execute_input": "2024-07-16T01:44:44.874683Z",
          "iopub.status.idle": "2024-07-16T01:44:44.886153Z",
          "shell.execute_reply.started": "2024-07-16T01:44:44.874645Z",
          "shell.execute_reply": "2024-07-16T01:44:44.884646Z"
        },
        "trusted": true,
        "id": "suaicKf9db7U",
        "outputId": "5013df32-016b-4ca4-cde2-1a2edf9dbb36"
      },
      "outputs": [
        {
          "execution_count": 11,
          "output_type": "execute_result",
          "data": {
            "text/plain": "Geography\nFrance     5014\nGermany    2509\nSpain      2477\nName: count, dtype: int64"
          },
          "metadata": {}
        }
      ],
      "execution_count": null
    },
    {
      "cell_type": "code",
      "source": [
        "df.replace({'Geography': {'France': 2,'Germany':1, 'Spain':0}}, inplace=True)"
      ],
      "metadata": {
        "execution": {
          "iopub.status.busy": "2024-07-16T01:44:44.887334Z",
          "iopub.execute_input": "2024-07-16T01:44:44.887742Z",
          "iopub.status.idle": "2024-07-16T01:44:44.906301Z",
          "shell.execute_reply.started": "2024-07-16T01:44:44.887703Z",
          "shell.execute_reply": "2024-07-16T01:44:44.904776Z"
        },
        "trusted": true,
        "id": "GOHb-tBDdb7U",
        "outputId": "3a4e07fc-c41f-4cc0-c683-f674c8438b29"
      },
      "outputs": [
        {
          "name": "stderr",
          "text": "/tmp/ipykernel_33/4042441433.py:1: FutureWarning: Downcasting behavior in `replace` is deprecated and will be removed in a future version. To retain the old behavior, explicitly call `result.infer_objects(copy=False)`. To opt-in to the future behavior, set `pd.set_option('future.no_silent_downcasting', True)`\n  df.replace({'Geography': {'France': 2,'Germany':1, 'Spain':0}}, inplace=True)\n",
          "output_type": "stream"
        }
      ],
      "execution_count": null
    },
    {
      "cell_type": "code",
      "source": [
        "df['Gender'].value_counts()"
      ],
      "metadata": {
        "execution": {
          "iopub.status.busy": "2024-07-16T01:44:44.907895Z",
          "iopub.execute_input": "2024-07-16T01:44:44.908357Z",
          "iopub.status.idle": "2024-07-16T01:44:44.91824Z",
          "shell.execute_reply.started": "2024-07-16T01:44:44.908318Z",
          "shell.execute_reply": "2024-07-16T01:44:44.917077Z"
        },
        "trusted": true,
        "id": "oM-_VXa_db7V",
        "outputId": "69ea5f61-e28a-496c-90b1-66464d62d81b"
      },
      "outputs": [
        {
          "execution_count": 13,
          "output_type": "execute_result",
          "data": {
            "text/plain": "Gender\nMale      5457\nFemale    4543\nName: count, dtype: int64"
          },
          "metadata": {}
        }
      ],
      "execution_count": null
    },
    {
      "cell_type": "code",
      "source": [
        "df.replace({'Gender': {'Male': 0, 'Female': 1}}, inplace=True)"
      ],
      "metadata": {
        "execution": {
          "iopub.status.busy": "2024-07-16T01:44:44.919908Z",
          "iopub.execute_input": "2024-07-16T01:44:44.920232Z",
          "iopub.status.idle": "2024-07-16T01:44:44.935798Z",
          "shell.execute_reply.started": "2024-07-16T01:44:44.920204Z",
          "shell.execute_reply": "2024-07-16T01:44:44.933884Z"
        },
        "trusted": true,
        "id": "NN2l91ULdb7V",
        "outputId": "1c4a7c23-d71b-4097-e65d-bb07e0ca0bb1"
      },
      "outputs": [
        {
          "name": "stderr",
          "text": "/tmp/ipykernel_33/926105093.py:1: FutureWarning: Downcasting behavior in `replace` is deprecated and will be removed in a future version. To retain the old behavior, explicitly call `result.infer_objects(copy=False)`. To opt-in to the future behavior, set `pd.set_option('future.no_silent_downcasting', True)`\n  df.replace({'Gender': {'Male': 0, 'Female': 1}}, inplace=True)\n",
          "output_type": "stream"
        }
      ],
      "execution_count": null
    },
    {
      "cell_type": "code",
      "source": [
        "df['Num Of Products'].value_counts()"
      ],
      "metadata": {
        "execution": {
          "iopub.status.busy": "2024-07-16T01:44:44.937686Z",
          "iopub.execute_input": "2024-07-16T01:44:44.938127Z",
          "iopub.status.idle": "2024-07-16T01:44:44.951856Z",
          "shell.execute_reply.started": "2024-07-16T01:44:44.938089Z",
          "shell.execute_reply": "2024-07-16T01:44:44.950797Z"
        },
        "trusted": true,
        "id": "BwiFK4Vkdb7V",
        "outputId": "05bdb5cc-d359-4229-b534-52191de2dbcf"
      },
      "outputs": [
        {
          "execution_count": 15,
          "output_type": "execute_result",
          "data": {
            "text/plain": "Num Of Products\n1    5084\n2    4590\n3     266\n4      60\nName: count, dtype: int64"
          },
          "metadata": {}
        }
      ],
      "execution_count": null
    },
    {
      "cell_type": "code",
      "source": [
        "df.replace({'Num Of Products': {1: 0, 2:1, 3:1, 4:1 }}, inplace=True)"
      ],
      "metadata": {
        "execution": {
          "iopub.status.busy": "2024-07-16T01:44:44.9532Z",
          "iopub.execute_input": "2024-07-16T01:44:44.953648Z",
          "iopub.status.idle": "2024-07-16T01:44:44.966772Z",
          "shell.execute_reply.started": "2024-07-16T01:44:44.953589Z",
          "shell.execute_reply": "2024-07-16T01:44:44.965447Z"
        },
        "trusted": true,
        "id": "Aogo9Svcdb7W"
      },
      "outputs": [],
      "execution_count": null
    },
    {
      "cell_type": "code",
      "source": [
        "df['Has Credit Card'].value_counts()"
      ],
      "metadata": {
        "execution": {
          "iopub.status.busy": "2024-07-16T01:44:44.968161Z",
          "iopub.execute_input": "2024-07-16T01:44:44.968569Z",
          "iopub.status.idle": "2024-07-16T01:44:44.983057Z",
          "shell.execute_reply.started": "2024-07-16T01:44:44.96853Z",
          "shell.execute_reply": "2024-07-16T01:44:44.981907Z"
        },
        "trusted": true,
        "id": "SeVCLDrndb7W",
        "outputId": "48331e7a-865b-4f8a-8545-5f2f1d0e9179"
      },
      "outputs": [
        {
          "execution_count": 17,
          "output_type": "execute_result",
          "data": {
            "text/plain": "Has Credit Card\n1    7055\n0    2945\nName: count, dtype: int64"
          },
          "metadata": {}
        }
      ],
      "execution_count": null
    },
    {
      "cell_type": "code",
      "source": [
        "df['Is Active Member'].value_counts()"
      ],
      "metadata": {
        "execution": {
          "iopub.status.busy": "2024-07-16T01:44:44.984293Z",
          "iopub.execute_input": "2024-07-16T01:44:44.984755Z",
          "iopub.status.idle": "2024-07-16T01:44:44.994124Z",
          "shell.execute_reply.started": "2024-07-16T01:44:44.984724Z",
          "shell.execute_reply": "2024-07-16T01:44:44.993087Z"
        },
        "trusted": true,
        "id": "zbBWJvNvdb7W",
        "outputId": "150d10e1-00d4-4c44-be73-3fe49c4d069b"
      },
      "outputs": [
        {
          "execution_count": 18,
          "output_type": "execute_result",
          "data": {
            "text/plain": "Is Active Member\n1    5151\n0    4849\nName: count, dtype: int64"
          },
          "metadata": {}
        }
      ],
      "execution_count": null
    },
    {
      "cell_type": "code",
      "source": [
        "df.loc[(df['Balance']==0), 'Churn'].value_counts()"
      ],
      "metadata": {
        "execution": {
          "iopub.status.busy": "2024-07-16T01:44:44.995176Z",
          "iopub.execute_input": "2024-07-16T01:44:44.9955Z",
          "iopub.status.idle": "2024-07-16T01:44:45.010474Z",
          "shell.execute_reply.started": "2024-07-16T01:44:44.995472Z",
          "shell.execute_reply": "2024-07-16T01:44:45.009139Z"
        },
        "trusted": true,
        "id": "6Z5Vqefmdb7W",
        "outputId": "69e8a255-94c8-4293-c5de-30f5e9740d98"
      },
      "outputs": [
        {
          "execution_count": 19,
          "output_type": "execute_result",
          "data": {
            "text/plain": "Churn\n0    3117\n1     500\nName: count, dtype: int64"
          },
          "metadata": {}
        }
      ],
      "execution_count": null
    },
    {
      "cell_type": "code",
      "source": [
        "df['Zero Balance'] = np.where(df['Balance']>0, 1, 0)"
      ],
      "metadata": {
        "execution": {
          "iopub.status.busy": "2024-07-16T01:44:45.01233Z",
          "iopub.execute_input": "2024-07-16T01:44:45.012766Z",
          "iopub.status.idle": "2024-07-16T01:44:45.020284Z",
          "shell.execute_reply.started": "2024-07-16T01:44:45.012725Z",
          "shell.execute_reply": "2024-07-16T01:44:45.019058Z"
        },
        "trusted": true,
        "id": "QVTPlNcFdb7W"
      },
      "outputs": [],
      "execution_count": null
    },
    {
      "cell_type": "code",
      "source": [
        "df['Zero Balance'].hist()"
      ],
      "metadata": {
        "execution": {
          "iopub.status.busy": "2024-07-16T01:44:45.021784Z",
          "iopub.execute_input": "2024-07-16T01:44:45.022762Z",
          "iopub.status.idle": "2024-07-16T01:44:45.416002Z",
          "shell.execute_reply.started": "2024-07-16T01:44:45.022721Z",
          "shell.execute_reply": "2024-07-16T01:44:45.414719Z"
        },
        "trusted": true,
        "id": "iKb6OFFOdb7X",
        "outputId": "6d234de4-577d-41d5-d995-73f6e4a1922c"
      },
      "outputs": [
        {
          "execution_count": 21,
          "output_type": "execute_result",
          "data": {
            "text/plain": "<Axes: >"
          },
          "metadata": {}
        },
        {
          "output_type": "display_data",
          "data": {
            "text/plain": "<Figure size 640x480 with 1 Axes>",
            "image/png": "[encoded data removed]"
          },
          "metadata": {}
        }
      ],
      "execution_count": null
    },
    {
      "cell_type": "code",
      "source": [
        "df.groupby(['Churn', 'Geography']).count()"
      ],
      "metadata": {
        "execution": {
          "iopub.status.busy": "2024-07-16T01:44:45.417828Z",
          "iopub.execute_input": "2024-07-16T01:44:45.418272Z",
          "iopub.status.idle": "2024-07-16T01:44:45.440182Z",
          "shell.execute_reply.started": "2024-07-16T01:44:45.418234Z",
          "shell.execute_reply": "2024-07-16T01:44:45.439018Z"
        },
        "trusted": true,
        "id": "zPK5fLRbdb7X",
        "outputId": "61eeb5c7-348f-4092-ba33-d6c7019ac0ea"
      },
      "outputs": [
        {
          "execution_count": 22,
          "output_type": "execute_result",
          "data": {
            "text/plain": "                 Surname  CreditScore  Gender   Age  Tenure  Balance  \\\nChurn Geography                                                        \n0     0             2064         2064    2064  2064    2064     2064   \n      1             1695         1695    1695  1695    1695     1695   \n      2             4204         4204    4204  4204    4204     4204   \n1     0              413          413     413   413     413      413   \n      1              814          814     814   814     814      814   \n      2              810          810     810   810     810      810   \n\n                 Num Of Products  Has Credit Card  Is Active Member  \\\nChurn Geography                                                       \n0     0                     2064             2064              2064   \n      1                     1695             1695              1695   \n      2                     4204             4204              4204   \n1     0                      413              413               413   \n      1                      814              814               814   \n      2                      810              810               810   \n\n                 Estimated Salary  Zero Balance  \nChurn Geography                                  \n0     0                      2064          2064  \n      1                      1695          1695  \n      2                      4204          4204  \n1     0                       413           413  \n      1                       814           814  \n      2                       810           810  ",
            "text/html": "<div>\n<style scoped>\n    .dataframe tbody tr th:only-of-type {\n        vertical-align: middle;\n    }\n\n    .dataframe tbody tr th {\n        vertical-align: top;\n    }\n\n    .dataframe thead th {\n        text-align: right;\n    }\n</style>\n<table border=\"1\" class=\"dataframe\">\n  <thead>\n    <tr style=\"text-align: right;\">\n      <th></th>\n      <th></th>\n      <th>Surname</th>\n      <th>CreditScore</th>\n      <th>Gender</th>\n      <th>Age</th>\n      <th>Tenure</th>\n      <th>Balance</th>\n      <th>Num Of Products</th>\n      <th>Has Credit Card</th>\n      <th>Is Active Member</th>\n      <th>Estimated Salary</th>\n      <th>Zero Balance</th>\n    </tr>\n    <tr>\n      <th>Churn</th>\n      <th>Geography</th>\n      <th></th>\n      <th></th>\n      <th></th>\n      <th></th>\n      <th></th>\n      <th></th>\n      <th></th>\n      <th></th>\n      <th></th>\n      <th></th>\n      <th></th>\n    </tr>\n  </thead>\n  <tbody>\n    <tr>\n      <th rowspan=\"3\" valign=\"top\">0</th>\n      <th>0</th>\n      <td>2064</td>\n      <td>2064</td>\n      <td>2064</td>\n      <td>2064</td>\n      <td>2064</td>\n      <td>2064</td>\n      <td>2064</td>\n      <td>2064</td>\n      <td>2064</td>\n      <td>2064</td>\n      <td>2064</td>\n    </tr>\n    <tr>\n      <th>1</th>\n      <td>1695</td>\n      <td>1695</td>\n      <td>1695</td>\n      <td>1695</td>\n      <td>1695</td>\n      <td>1695</td>\n      <td>1695</td>\n      <td>1695</td>\n      <td>1695</td>\n      <td>1695</td>\n      <td>1695</td>\n    </tr>\n    <tr>\n      <th>2</th>\n      <td>4204</td>\n      <td>4204</td>\n      <td>4204</td>\n      <td>4204</td>\n      <td>4204</td>\n      <td>4204</td>\n      <td>4204</td>\n      <td>4204</td>\n      <td>4204</td>\n      <td>4204</td>\n      <td>4204</td>\n    </tr>\n    <tr>\n      <th rowspan=\"3\" valign=\"top\">1</th>\n      <th>0</th>\n      <td>413</td>\n      <td>413</td>\n      <td>413</td>\n      <td>413</td>\n      <td>413</td>\n      <td>413</td>\n      <td>413</td>\n      <td>413</td>\n      <td>413</td>\n      <td>413</td>\n      <td>413</td>\n    </tr>\n    <tr>\n      <th>1</th>\n      <td>814</td>\n      <td>814</td>\n      <td>814</td>\n      <td>814</td>\n      <td>814</td>\n      <td>814</td>\n      <td>814</td>\n      <td>814</td>\n      <td>814</td>\n      <td>814</td>\n      <td>814</td>\n    </tr>\n    <tr>\n      <th>2</th>\n      <td>810</td>\n      <td>810</td>\n      <td>810</td>\n      <td>810</td>\n      <td>810</td>\n      <td>810</td>\n      <td>810</td>\n      <td>810</td>\n      <td>810</td>\n      <td>810</td>\n      <td>810</td>\n    </tr>\n  </tbody>\n</table>\n</div>"
          },
          "metadata": {}
        }
      ],
      "execution_count": null
    },
    {
      "cell_type": "code",
      "source": [
        "df.columns"
      ],
      "metadata": {
        "execution": {
          "iopub.status.busy": "2024-07-16T01:44:45.441983Z",
          "iopub.execute_input": "2024-07-16T01:44:45.442352Z",
          "iopub.status.idle": "2024-07-16T01:44:45.449622Z",
          "shell.execute_reply.started": "2024-07-16T01:44:45.442284Z",
          "shell.execute_reply": "2024-07-16T01:44:45.448181Z"
        },
        "trusted": true,
        "id": "-o6AqG6Mdb7X",
        "outputId": "7be58976-e3d0-4bd7-8cf0-684af1cc26a5"
      },
      "outputs": [
        {
          "execution_count": 23,
          "output_type": "execute_result",
          "data": {
            "text/plain": "Index(['Surname', 'CreditScore', 'Geography', 'Gender', 'Age', 'Tenure',\n       'Balance', 'Num Of Products', 'Has Credit Card', 'Is Active Member',\n       'Estimated Salary', 'Churn', 'Zero Balance'],\n      dtype='object')"
          },
          "metadata": {}
        }
      ],
      "execution_count": null
    },
    {
      "cell_type": "code",
      "source": [
        "X = df.drop(['Surname','Churn'], axis = 1)"
      ],
      "metadata": {
        "execution": {
          "iopub.status.busy": "2024-07-16T01:44:45.451616Z",
          "iopub.execute_input": "2024-07-16T01:44:45.452047Z",
          "iopub.status.idle": "2024-07-16T01:44:45.467378Z",
          "shell.execute_reply.started": "2024-07-16T01:44:45.452007Z",
          "shell.execute_reply": "2024-07-16T01:44:45.466256Z"
        },
        "trusted": true,
        "id": "xSCG5Y_Adb7X"
      },
      "outputs": [],
      "execution_count": null
    },
    {
      "cell_type": "code",
      "source": [
        "y = df['Churn']"
      ],
      "metadata": {
        "execution": {
          "iopub.status.busy": "2024-07-16T01:44:45.468883Z",
          "iopub.execute_input": "2024-07-16T01:44:45.469244Z",
          "iopub.status.idle": "2024-07-16T01:44:45.481031Z",
          "shell.execute_reply.started": "2024-07-16T01:44:45.469216Z",
          "shell.execute_reply": "2024-07-16T01:44:45.479671Z"
        },
        "trusted": true,
        "id": "UKwlJDs-db7X"
      },
      "outputs": [],
      "execution_count": null
    },
    {
      "cell_type": "code",
      "source": [
        "X.shape, y.shape"
      ],
      "metadata": {
        "execution": {
          "iopub.status.busy": "2024-07-16T01:44:45.482724Z",
          "iopub.execute_input": "2024-07-16T01:44:45.483178Z",
          "iopub.status.idle": "2024-07-16T01:44:45.501179Z",
          "shell.execute_reply.started": "2024-07-16T01:44:45.483137Z",
          "shell.execute_reply": "2024-07-16T01:44:45.499917Z"
        },
        "trusted": true,
        "id": "XG1lrHsjdb7X",
        "outputId": "5a1d6795-932d-4c29-fd70-5b42a71240a7"
      },
      "outputs": [
        {
          "execution_count": 26,
          "output_type": "execute_result",
          "data": {
            "text/plain": "((10000, 11), (10000,))"
          },
          "metadata": {}
        }
      ],
      "execution_count": null
    },
    {
      "cell_type": "code",
      "source": [
        "df['Churn'].value_counts()"
      ],
      "metadata": {
        "execution": {
          "iopub.status.busy": "2024-07-16T01:44:45.509486Z",
          "iopub.execute_input": "2024-07-16T01:44:45.509885Z",
          "iopub.status.idle": "2024-07-16T01:44:45.518571Z",
          "shell.execute_reply.started": "2024-07-16T01:44:45.509832Z",
          "shell.execute_reply": "2024-07-16T01:44:45.517211Z"
        },
        "trusted": true,
        "id": "LHBRYdI8db7X",
        "outputId": "aa728434-6556-486f-8365-f401fbd6955e"
      },
      "outputs": [
        {
          "execution_count": 27,
          "output_type": "execute_result",
          "data": {
            "text/plain": "Churn\n0    7963\n1    2037\nName: count, dtype: int64"
          },
          "metadata": {}
        }
      ],
      "execution_count": null
    },
    {
      "cell_type": "code",
      "source": [
        "sns.countplot(x ='Churn', data = df);"
      ],
      "metadata": {
        "execution": {
          "iopub.status.busy": "2024-07-16T01:44:45.520312Z",
          "iopub.execute_input": "2024-07-16T01:44:45.520643Z",
          "iopub.status.idle": "2024-07-16T01:44:45.747268Z",
          "shell.execute_reply.started": "2024-07-16T01:44:45.520606Z",
          "shell.execute_reply": "2024-07-16T01:44:45.746134Z"
        },
        "trusted": true,
        "id": "uhVe6_e0db7Y",
        "outputId": "11c4364d-8dc2-48ab-ac7e-3b18ced593ca"
      },
      "outputs": [
        {
          "output_type": "display_data",
          "data": {
            "text/plain": "<Figure size 640x480 with 1 Axes>",
            "image/png": "[encoded data removed]"
          },
          "metadata": {}
        }
      ],
      "execution_count": null
    },
    {
      "cell_type": "code",
      "source": [
        "X.shape, y.shape"
      ],
      "metadata": {
        "execution": {
          "iopub.status.busy": "2024-07-16T01:44:45.748506Z",
          "iopub.execute_input": "2024-07-16T01:44:45.748831Z",
          "iopub.status.idle": "2024-07-16T01:44:45.756469Z",
          "shell.execute_reply.started": "2024-07-16T01:44:45.748803Z",
          "shell.execute_reply": "2024-07-16T01:44:45.755133Z"
        },
        "trusted": true,
        "id": "L_15J_aTdb7Y",
        "outputId": "cf98a851-dc5d-42f7-fc5a-86324dede3e7"
      },
      "outputs": [
        {
          "execution_count": 29,
          "output_type": "execute_result",
          "data": {
            "text/plain": "((10000, 11), (10000,))"
          },
          "metadata": {}
        }
      ],
      "execution_count": null
    },
    {
      "cell_type": "code",
      "source": [
        "from imblearn.under_sampling import RandomUnderSampler"
      ],
      "metadata": {
        "execution": {
          "iopub.status.busy": "2024-07-16T01:44:45.757577Z",
          "iopub.execute_input": "2024-07-16T01:44:45.758198Z",
          "iopub.status.idle": "2024-07-16T01:44:46.449486Z",
          "shell.execute_reply.started": "2024-07-16T01:44:45.758162Z",
          "shell.execute_reply": "2024-07-16T01:44:46.448331Z"
        },
        "trusted": true,
        "id": "0bdQChMddb7Y"
      },
      "outputs": [],
      "execution_count": null
    },
    {
      "cell_type": "code",
      "source": [
        "rus = RandomUnderSampler(random_state=2529)"
      ],
      "metadata": {
        "execution": {
          "iopub.status.busy": "2024-07-16T01:44:46.450993Z",
          "iopub.execute_input": "2024-07-16T01:44:46.451584Z",
          "iopub.status.idle": "2024-07-16T01:44:46.456364Z",
          "shell.execute_reply.started": "2024-07-16T01:44:46.451547Z",
          "shell.execute_reply": "2024-07-16T01:44:46.455191Z"
        },
        "trusted": true,
        "id": "cMNYbE-Edb7Y"
      },
      "outputs": [],
      "execution_count": null
    },
    {
      "cell_type": "code",
      "source": [
        "X_rus, y_rus = rus.fit_resample(X,y)"
      ],
      "metadata": {
        "execution": {
          "iopub.status.busy": "2024-07-16T01:44:46.457899Z",
          "iopub.execute_input": "2024-07-16T01:44:46.45828Z",
          "iopub.status.idle": "2024-07-16T01:44:46.482913Z",
          "shell.execute_reply.started": "2024-07-16T01:44:46.458247Z",
          "shell.execute_reply": "2024-07-16T01:44:46.4819Z"
        },
        "trusted": true,
        "id": "K0oLeKICdb7Y"
      },
      "outputs": [],
      "execution_count": null
    },
    {
      "cell_type": "code",
      "source": [
        "X_rus.shape, y_rus.shape, X.shape, y.shape"
      ],
      "metadata": {
        "execution": {
          "iopub.status.busy": "2024-07-16T01:44:46.484473Z",
          "iopub.execute_input": "2024-07-16T01:44:46.484821Z",
          "iopub.status.idle": "2024-07-16T01:44:46.493628Z",
          "shell.execute_reply.started": "2024-07-16T01:44:46.484792Z",
          "shell.execute_reply": "2024-07-16T01:44:46.492005Z"
        },
        "trusted": true,
        "id": "v9IP3p8Sdb7Y",
        "outputId": "f530cf5c-b61b-46d2-940b-e3aa3ee688c1"
      },
      "outputs": [
        {
          "execution_count": 33,
          "output_type": "execute_result",
          "data": {
            "text/plain": "((4074, 11), (4074,), (10000, 11), (10000,))"
          },
          "metadata": {}
        }
      ],
      "execution_count": null
    },
    {
      "cell_type": "code",
      "source": [
        "y.value_counts()"
      ],
      "metadata": {
        "execution": {
          "iopub.status.busy": "2024-07-16T01:44:46.495361Z",
          "iopub.execute_input": "2024-07-16T01:44:46.495912Z",
          "iopub.status.idle": "2024-07-16T01:44:46.506752Z",
          "shell.execute_reply.started": "2024-07-16T01:44:46.495871Z",
          "shell.execute_reply": "2024-07-16T01:44:46.505257Z"
        },
        "trusted": true,
        "id": "F2haqIkydb7Z",
        "outputId": "36dbf865-77d9-4ee8-c3c0-d10c8fd34989"
      },
      "outputs": [
        {
          "execution_count": 34,
          "output_type": "execute_result",
          "data": {
            "text/plain": "Churn\n0    7963\n1    2037\nName: count, dtype: int64"
          },
          "metadata": {}
        }
      ],
      "execution_count": null
    },
    {
      "cell_type": "code",
      "source": [
        "y_rus.value_counts()"
      ],
      "metadata": {
        "execution": {
          "iopub.status.busy": "2024-07-16T01:44:46.50832Z",
          "iopub.execute_input": "2024-07-16T01:44:46.50879Z",
          "iopub.status.idle": "2024-07-16T01:44:46.519587Z",
          "shell.execute_reply.started": "2024-07-16T01:44:46.508748Z",
          "shell.execute_reply": "2024-07-16T01:44:46.517929Z"
        },
        "trusted": true,
        "id": "TczrVwKadb7Z",
        "outputId": "2d987b76-2dfe-4587-e2f9-1fe739f4ee4e"
      },
      "outputs": [
        {
          "execution_count": 35,
          "output_type": "execute_result",
          "data": {
            "text/plain": "Churn\n0    2037\n1    2037\nName: count, dtype: int64"
          },
          "metadata": {}
        }
      ],
      "execution_count": null
    },
    {
      "cell_type": "code",
      "source": [
        "y_rus.plot(kind = 'hist')"
      ],
      "metadata": {
        "execution": {
          "iopub.status.busy": "2024-07-16T01:44:46.521149Z",
          "iopub.execute_input": "2024-07-16T01:44:46.521579Z",
          "iopub.status.idle": "2024-07-16T01:44:46.846363Z",
          "shell.execute_reply.started": "2024-07-16T01:44:46.521541Z",
          "shell.execute_reply": "2024-07-16T01:44:46.845062Z"
        },
        "trusted": true,
        "id": "yhX2Lwsudb7Z",
        "outputId": "b4a52353-2678-4ca9-bb49-b70f8599f914"
      },
      "outputs": [
        {
          "execution_count": 36,
          "output_type": "execute_result",
          "data": {
            "text/plain": "<Axes: ylabel='Frequency'>"
          },
          "metadata": {}
        },
        {
          "output_type": "display_data",
          "data": {
            "text/plain": "<Figure size 640x480 with 1 Axes>",
            "image/png": "[encoded data removed]"
          },
          "metadata": {}
        }
      ],
      "execution_count": null
    },
    {
      "cell_type": "code",
      "source": [
        "from imblearn.over_sampling import RandomOverSampler"
      ],
      "metadata": {
        "execution": {
          "iopub.status.busy": "2024-07-16T01:44:46.848495Z",
          "iopub.execute_input": "2024-07-16T01:44:46.848967Z",
          "iopub.status.idle": "2024-07-16T01:44:46.85445Z",
          "shell.execute_reply.started": "2024-07-16T01:44:46.848927Z",
          "shell.execute_reply": "2024-07-16T01:44:46.85301Z"
        },
        "trusted": true,
        "id": "XxS_HTP4db7Z"
      },
      "outputs": [],
      "execution_count": null
    },
    {
      "cell_type": "code",
      "source": [
        "ros = RandomOverSampler(random_state=2529)"
      ],
      "metadata": {
        "execution": {
          "iopub.status.busy": "2024-07-16T01:44:46.85662Z",
          "iopub.execute_input": "2024-07-16T01:44:46.85727Z",
          "iopub.status.idle": "2024-07-16T01:44:46.864764Z",
          "shell.execute_reply.started": "2024-07-16T01:44:46.857228Z",
          "shell.execute_reply": "2024-07-16T01:44:46.863465Z"
        },
        "trusted": true,
        "id": "aPc_6GGXdb7l"
      },
      "outputs": [],
      "execution_count": null
    },
    {
      "cell_type": "code",
      "source": [
        "X_ros, y_ros = ros.fit_resample(X,y)"
      ],
      "metadata": {
        "execution": {
          "iopub.status.busy": "2024-07-16T01:44:46.866231Z",
          "iopub.execute_input": "2024-07-16T01:44:46.866594Z",
          "iopub.status.idle": "2024-07-16T01:44:46.887151Z",
          "shell.execute_reply.started": "2024-07-16T01:44:46.866565Z",
          "shell.execute_reply": "2024-07-16T01:44:46.885925Z"
        },
        "trusted": true,
        "id": "zxp1WMJAdb7m"
      },
      "outputs": [],
      "execution_count": null
    },
    {
      "cell_type": "code",
      "source": [
        "X_ros.shape, y_ros.shape, X.shape, y.shape"
      ],
      "metadata": {
        "execution": {
          "iopub.status.busy": "2024-07-16T01:44:46.888592Z",
          "iopub.execute_input": "2024-07-16T01:44:46.889027Z",
          "iopub.status.idle": "2024-07-16T01:44:46.897318Z",
          "shell.execute_reply.started": "2024-07-16T01:44:46.888988Z",
          "shell.execute_reply": "2024-07-16T01:44:46.896054Z"
        },
        "trusted": true,
        "id": "KyC4iTtodb7m",
        "outputId": "4c05cfab-da11-4dcc-c00d-01a95640168c"
      },
      "outputs": [
        {
          "execution_count": 40,
          "output_type": "execute_result",
          "data": {
            "text/plain": "((15926, 11), (15926,), (10000, 11), (10000,))"
          },
          "metadata": {}
        }
      ],
      "execution_count": null
    },
    {
      "cell_type": "code",
      "source": [
        "y.value_counts()"
      ],
      "metadata": {
        "execution": {
          "iopub.status.busy": "2024-07-16T01:44:46.899325Z",
          "iopub.execute_input": "2024-07-16T01:44:46.900366Z",
          "iopub.status.idle": "2024-07-16T01:44:46.910539Z",
          "shell.execute_reply.started": "2024-07-16T01:44:46.900323Z",
          "shell.execute_reply": "2024-07-16T01:44:46.909279Z"
        },
        "trusted": true,
        "id": "muKyCVildb7n",
        "outputId": "73bd1ff2-3544-4693-d730-2e9b51778fcb"
      },
      "outputs": [
        {
          "execution_count": 41,
          "output_type": "execute_result",
          "data": {
            "text/plain": "Churn\n0    7963\n1    2037\nName: count, dtype: int64"
          },
          "metadata": {}
        }
      ],
      "execution_count": null
    },
    {
      "cell_type": "code",
      "source": [
        "y_ros.value_counts()"
      ],
      "metadata": {
        "execution": {
          "iopub.status.busy": "2024-07-16T01:44:46.912033Z",
          "iopub.execute_input": "2024-07-16T01:44:46.912465Z",
          "iopub.status.idle": "2024-07-16T01:44:46.923768Z",
          "shell.execute_reply.started": "2024-07-16T01:44:46.912428Z",
          "shell.execute_reply": "2024-07-16T01:44:46.922263Z"
        },
        "trusted": true,
        "id": "QwUo4WFadb7n",
        "outputId": "45f3f6d8-a9c3-4ae3-fdf6-ed777e2c059f"
      },
      "outputs": [
        {
          "execution_count": 42,
          "output_type": "execute_result",
          "data": {
            "text/plain": "Churn\n1    7963\n0    7963\nName: count, dtype: int64"
          },
          "metadata": {}
        }
      ],
      "execution_count": null
    },
    {
      "cell_type": "code",
      "source": [
        "y_ros.plot(kind = 'hist')"
      ],
      "metadata": {
        "execution": {
          "iopub.status.busy": "2024-07-16T01:44:46.92609Z",
          "iopub.execute_input": "2024-07-16T01:44:46.926537Z",
          "iopub.status.idle": "2024-07-16T01:44:47.217159Z",
          "shell.execute_reply.started": "2024-07-16T01:44:46.926499Z",
          "shell.execute_reply": "2024-07-16T01:44:47.216191Z"
        },
        "trusted": true,
        "id": "ympqiBIldb7n",
        "outputId": "306e5bec-8021-41ee-cfdc-87a6679535e1"
      },
      "outputs": [
        {
          "execution_count": 43,
          "output_type": "execute_result",
          "data": {
            "text/plain": "<Axes: ylabel='Frequency'>"
          },
          "metadata": {}
        },
        {
          "output_type": "display_data",
          "data": {
            "text/plain": "<Figure size 640x480 with 1 Axes>",
            "image/png": "[encoded data removed]"
          },
          "metadata": {}
        }
      ],
      "execution_count": null
    },
    {
      "cell_type": "markdown",
      "source": [
        "Train Test Split"
      ],
      "metadata": {
        "id": "1Y34lrE-db7n"
      }
    },
    {
      "cell_type": "code",
      "source": [
        "from sklearn.model_selection import train_test_split"
      ],
      "metadata": {
        "execution": {
          "iopub.status.busy": "2024-07-16T01:44:47.218477Z",
          "iopub.execute_input": "2024-07-16T01:44:47.218816Z",
          "iopub.status.idle": "2024-07-16T01:44:47.223623Z",
          "shell.execute_reply.started": "2024-07-16T01:44:47.218787Z",
          "shell.execute_reply": "2024-07-16T01:44:47.222494Z"
        },
        "trusted": true,
        "id": "rOIdufhEdb7n"
      },
      "outputs": [],
      "execution_count": null
    },
    {
      "cell_type": "markdown",
      "source": [
        "Split Orginal Data"
      ],
      "metadata": {
        "id": "H04dBCYfdb7o"
      }
    },
    {
      "cell_type": "code",
      "source": [
        "X_train, X_test, y_train, y_test = train_test_split(X, y, test_size=0.3, random_state=2529)"
      ],
      "metadata": {
        "execution": {
          "iopub.status.busy": "2024-07-16T01:44:47.22509Z",
          "iopub.execute_input": "2024-07-16T01:44:47.225599Z",
          "iopub.status.idle": "2024-07-16T01:44:47.236296Z",
          "shell.execute_reply.started": "2024-07-16T01:44:47.225568Z",
          "shell.execute_reply": "2024-07-16T01:44:47.235059Z"
        },
        "trusted": true,
        "id": "bEss61pHdb7o"
      },
      "outputs": [],
      "execution_count": null
    },
    {
      "cell_type": "markdown",
      "source": [
        "Split Random Under Sample Data"
      ],
      "metadata": {
        "id": "9fl4-tK6db7o"
      }
    },
    {
      "cell_type": "code",
      "source": [
        "X_train_rus, X_test_rus, y_train_rus, y_test_rus = train_test_split(X_rus, y_rus, test_size=0.3, random_state=2529)"
      ],
      "metadata": {
        "execution": {
          "iopub.status.busy": "2024-07-16T01:44:47.237656Z",
          "iopub.execute_input": "2024-07-16T01:44:47.238005Z",
          "iopub.status.idle": "2024-07-16T01:44:47.248107Z",
          "shell.execute_reply.started": "2024-07-16T01:44:47.237976Z",
          "shell.execute_reply": "2024-07-16T01:44:47.247004Z"
        },
        "trusted": true,
        "id": "rs15RRsLdb7o"
      },
      "outputs": [],
      "execution_count": null
    },
    {
      "cell_type": "markdown",
      "source": [
        "Split Random Over Sample Data"
      ],
      "metadata": {
        "id": "axQ5hkYxdb7o"
      }
    },
    {
      "cell_type": "code",
      "source": [
        "X_train_ros, X_test_ros, y_train_ros, y_test_ros = train_test_split(X_ros, y_ros, test_size=0.3, random_state=2529)"
      ],
      "metadata": {
        "execution": {
          "iopub.status.busy": "2024-07-16T01:44:47.250011Z",
          "iopub.execute_input": "2024-07-16T01:44:47.250432Z",
          "iopub.status.idle": "2024-07-16T01:44:47.262428Z",
          "shell.execute_reply.started": "2024-07-16T01:44:47.250392Z",
          "shell.execute_reply": "2024-07-16T01:44:47.261276Z"
        },
        "trusted": true,
        "id": "e0inDGxBdb7p"
      },
      "outputs": [],
      "execution_count": null
    },
    {
      "cell_type": "markdown",
      "source": [
        "Standardize Features"
      ],
      "metadata": {
        "id": "tnDTSy6ydb7p"
      }
    },
    {
      "cell_type": "code",
      "source": [
        "from sklearn.preprocessing import StandardScaler"
      ],
      "metadata": {
        "execution": {
          "iopub.status.busy": "2024-07-16T01:44:47.264004Z",
          "iopub.execute_input": "2024-07-16T01:44:47.264428Z",
          "iopub.status.idle": "2024-07-16T01:44:47.269884Z",
          "shell.execute_reply.started": "2024-07-16T01:44:47.264397Z",
          "shell.execute_reply": "2024-07-16T01:44:47.26876Z"
        },
        "trusted": true,
        "id": "JSy9I2Ahdb7p"
      },
      "outputs": [],
      "execution_count": null
    },
    {
      "cell_type": "code",
      "source": [
        "sc = StandardScaler()"
      ],
      "metadata": {
        "execution": {
          "iopub.status.busy": "2024-07-16T01:44:47.271301Z",
          "iopub.execute_input": "2024-07-16T01:44:47.271663Z",
          "iopub.status.idle": "2024-07-16T01:44:47.278967Z",
          "shell.execute_reply.started": "2024-07-16T01:44:47.271621Z",
          "shell.execute_reply": "2024-07-16T01:44:47.277834Z"
        },
        "trusted": true,
        "id": "T7ZEqG0gdb7p"
      },
      "outputs": [],
      "execution_count": null
    },
    {
      "cell_type": "markdown",
      "source": [
        "Standardize Orginal Data"
      ],
      "metadata": {
        "id": "twkCijHZdb7p"
      }
    },
    {
      "cell_type": "code",
      "source": [
        "X_train[['CreditScore','Age','Tenure','Balance','Estimated Salary']] = sc.fit_transform(X_train[['CreditScore','Age','Tenure','Balance','Estimated Salary']])"
      ],
      "metadata": {
        "execution": {
          "iopub.status.busy": "2024-07-16T01:44:47.280417Z",
          "iopub.execute_input": "2024-07-16T01:44:47.280765Z",
          "iopub.status.idle": "2024-07-16T01:44:47.295729Z",
          "shell.execute_reply.started": "2024-07-16T01:44:47.280737Z",
          "shell.execute_reply": "2024-07-16T01:44:47.294621Z"
        },
        "trusted": true,
        "id": "bW5foiMqdb7p"
      },
      "outputs": [],
      "execution_count": null
    },
    {
      "cell_type": "code",
      "source": [
        "X_test[['CreditScore','Age','Tenure','Balance','Estimated Salary']] = sc.fit_transform(X_test[['CreditScore','Age','Tenure','Balance','Estimated Salary']])"
      ],
      "metadata": {
        "execution": {
          "iopub.status.busy": "2024-07-16T01:44:47.297081Z",
          "iopub.execute_input": "2024-07-16T01:44:47.297453Z",
          "iopub.status.idle": "2024-07-16T01:44:47.308361Z",
          "shell.execute_reply.started": "2024-07-16T01:44:47.297424Z",
          "shell.execute_reply": "2024-07-16T01:44:47.30716Z"
        },
        "trusted": true,
        "id": "E-YLNKFJdb7p"
      },
      "outputs": [],
      "execution_count": null
    },
    {
      "cell_type": "markdown",
      "source": [
        "Standardize Random Under Sampling Data"
      ],
      "metadata": {
        "id": "C1trlzRLdb7q"
      }
    },
    {
      "cell_type": "code",
      "source": [
        "X_train_rus[['CreditScore','Age','Tenure','Balance','Estimated Salary']] = sc.fit_transform(X_train_rus[['CreditScore','Age','Tenure','Balance','Estimated Salary']])"
      ],
      "metadata": {
        "execution": {
          "iopub.status.busy": "2024-07-16T01:44:47.309749Z",
          "iopub.execute_input": "2024-07-16T01:44:47.310218Z",
          "iopub.status.idle": "2024-07-16T01:44:47.321353Z",
          "shell.execute_reply.started": "2024-07-16T01:44:47.310188Z",
          "shell.execute_reply": "2024-07-16T01:44:47.320259Z"
        },
        "trusted": true,
        "id": "jlzjEnQmdb7q"
      },
      "outputs": [],
      "execution_count": null
    },
    {
      "cell_type": "code",
      "source": [
        "X_test_rus[['CreditScore','Age','Tenure','Balance','Estimated Salary']] = sc.fit_transform(X_test_rus[['CreditScore','Age','Tenure','Balance','Estimated Salary']])"
      ],
      "metadata": {
        "execution": {
          "iopub.status.busy": "2024-07-16T01:44:47.322985Z",
          "iopub.execute_input": "2024-07-16T01:44:47.323508Z",
          "iopub.status.idle": "2024-07-16T01:44:47.337893Z",
          "shell.execute_reply.started": "2024-07-16T01:44:47.32347Z",
          "shell.execute_reply": "2024-07-16T01:44:47.336632Z"
        },
        "trusted": true,
        "id": "DpcYVj2Bdb7q"
      },
      "outputs": [],
      "execution_count": null
    },
    {
      "cell_type": "markdown",
      "source": [
        "Standardize Random Over Sampling Data"
      ],
      "metadata": {
        "id": "7Eh00mxedb7q"
      }
    },
    {
      "cell_type": "code",
      "source": [
        "X_train_ros[['CreditScore','Age','Tenure','Balance','Estimated Salary']] = sc.fit_transform(X_train_ros[['CreditScore','Age','Tenure','Balance','Estimated Salary']])"
      ],
      "metadata": {
        "execution": {
          "iopub.status.busy": "2024-07-16T01:44:47.339413Z",
          "iopub.execute_input": "2024-07-16T01:44:47.339818Z",
          "iopub.status.idle": "2024-07-16T01:44:47.35332Z",
          "shell.execute_reply.started": "2024-07-16T01:44:47.339786Z",
          "shell.execute_reply": "2024-07-16T01:44:47.352243Z"
        },
        "trusted": true,
        "id": "h0WEY9m2db7q"
      },
      "outputs": [],
      "execution_count": null
    },
    {
      "cell_type": "code",
      "source": [
        "X_test_ros[['CreditScore','Age','Tenure','Balance','Estimated Salary']] = sc.fit_transform(X_test_ros[['CreditScore','Age','Tenure','Balance','Estimated Salary']])"
      ],
      "metadata": {
        "execution": {
          "iopub.status.busy": "2024-07-16T01:44:47.354568Z",
          "iopub.execute_input": "2024-07-16T01:44:47.354975Z",
          "iopub.status.idle": "2024-07-16T01:44:47.367965Z",
          "shell.execute_reply.started": "2024-07-16T01:44:47.35494Z",
          "shell.execute_reply": "2024-07-16T01:44:47.366868Z"
        },
        "trusted": true,
        "id": "y8fwaAqWdb7q"
      },
      "outputs": [],
      "execution_count": null
    },
    {
      "cell_type": "markdown",
      "source": [
        "Support Vector Machine Classifier"
      ],
      "metadata": {
        "id": "QQBfdFO9db7q"
      }
    },
    {
      "cell_type": "code",
      "source": [
        "from sklearn.svm import SVC"
      ],
      "metadata": {
        "execution": {
          "iopub.status.busy": "2024-07-16T01:44:47.369391Z",
          "iopub.execute_input": "2024-07-16T01:44:47.369703Z",
          "iopub.status.idle": "2024-07-16T01:44:47.375127Z",
          "shell.execute_reply.started": "2024-07-16T01:44:47.369677Z",
          "shell.execute_reply": "2024-07-16T01:44:47.373881Z"
        },
        "trusted": true,
        "id": "2HrkEI_Wdb7r"
      },
      "outputs": [],
      "execution_count": null
    },
    {
      "cell_type": "code",
      "source": [
        "svc = SVC()"
      ],
      "metadata": {
        "execution": {
          "iopub.status.busy": "2024-07-16T01:44:47.376613Z",
          "iopub.execute_input": "2024-07-16T01:44:47.376996Z",
          "iopub.status.idle": "2024-07-16T01:44:47.385925Z",
          "shell.execute_reply.started": "2024-07-16T01:44:47.376959Z",
          "shell.execute_reply": "2024-07-16T01:44:47.384777Z"
        },
        "trusted": true,
        "id": "8J3oy9vEdb7r"
      },
      "outputs": [],
      "execution_count": null
    },
    {
      "cell_type": "code",
      "source": [
        "svc.fit(X_train, y_train)"
      ],
      "metadata": {
        "execution": {
          "iopub.status.busy": "2024-07-16T01:44:47.387406Z",
          "iopub.execute_input": "2024-07-16T01:44:47.38848Z",
          "iopub.status.idle": "2024-07-16T01:44:48.686234Z",
          "shell.execute_reply.started": "2024-07-16T01:44:47.388436Z",
          "shell.execute_reply": "2024-07-16T01:44:48.685088Z"
        },
        "trusted": true,
        "id": "0c-iW0Ssdb7r",
        "outputId": "8b9fd8a4-8f21-484a-87ec-4b975e27e9e8"
      },
      "outputs": [
        {
          "execution_count": 58,
          "output_type": "execute_result",
          "data": {
            "text/plain": "SVC()",
            "text/html": "<style>#sk-container-id-1 {color: black;background-color: white;}#sk-container-id-1 pre{padding: 0;}#sk-container-id-1 div.sk-toggleable {background-color: white;}#sk-container-id-1 label.sk-toggleable__label {cursor: pointer;display: block;width: 100%;margin-bottom: 0;padding: 0.3em;box-sizing: border-box;text-align: center;}#sk-container-id-1 label.sk-toggleable__label-arrow:before {content: \"▸\";float: left;margin-right: 0.25em;color: #696969;}#sk-container-id-1 label.sk-toggleable__label-arrow:hover:before {color: black;}#sk-container-id-1 div.sk-estimator:hover label.sk-toggleable__label-arrow:before {color: black;}#sk-container-id-1 div.sk-toggleable__content {max-height: 0;max-width: 0;overflow: hidden;text-align: left;background-color: #f0f8ff;}#sk-container-id-1 div.sk-toggleable__content pre {margin: 0.2em;color: black;border-radius: 0.25em;background-color: #f0f8ff;}#sk-container-id-1 input.sk-toggleable__control:checked~div.sk-toggleable__content {max-height: 200px;max-width: 100%;overflow: auto;}#sk-container-id-1 input.sk-toggleable__control:checked~label.sk-toggleable__label-arrow:before {content: \"▾\";}#sk-container-id-1 div.sk-estimator input.sk-toggleable__control:checked~label.sk-toggleable__label {background-color: #d4ebff;}#sk-container-id-1 div.sk-label input.sk-toggleable__control:checked~label.sk-toggleable__label {background-color: #d4ebff;}#sk-container-id-1 input.sk-hidden--visually {border: 0;clip: rect(1px 1px 1px 1px);clip: rect(1px, 1px, 1px, 1px);height: 1px;margin: -1px;overflow: hidden;padding: 0;position: absolute;width: 1px;}#sk-container-id-1 div.sk-estimator {font-family: monospace;background-color: #f0f8ff;border: 1px dotted black;border-radius: 0.25em;box-sizing: border-box;margin-bottom: 0.5em;}#sk-container-id-1 div.sk-estimator:hover {background-color: #d4ebff;}#sk-container-id-1 div.sk-parallel-item::after {content: \"\";width: 100%;border-bottom: 1px solid gray;flex-grow: 1;}#sk-container-id-1 div.sk-label:hover label.sk-toggleable__label {background-color: #d4ebff;}#sk-container-id-1 div.sk-serial::before {content: \"\";position: absolute;border-left: 1px solid gray;box-sizing: border-box;top: 0;bottom: 0;left: 50%;z-index: 0;}#sk-container-id-1 div.sk-serial {display: flex;flex-direction: column;align-items: center;background-color: white;padding-right: 0.2em;padding-left: 0.2em;position: relative;}#sk-container-id-1 div.sk-item {position: relative;z-index: 1;}#sk-container-id-1 div.sk-parallel {display: flex;align-items: stretch;justify-content: center;background-color: white;position: relative;}#sk-container-id-1 div.sk-item::before, #sk-container-id-1 div.sk-parallel-item::before {content: \"\";position: absolute;border-left: 1px solid gray;box-sizing: border-box;top: 0;bottom: 0;left: 50%;z-index: -1;}#sk-container-id-1 div.sk-parallel-item {display: flex;flex-direction: column;z-index: 1;position: relative;background-color: white;}#sk-container-id-1 div.sk-parallel-item:first-child::after {align-self: flex-end;width: 50%;}#sk-container-id-1 div.sk-parallel-item:last-child::after {align-self: flex-start;width: 50%;}#sk-container-id-1 div.sk-parallel-item:only-child::after {width: 0;}#sk-container-id-1 div.sk-dashed-wrapped {border: 1px dashed gray;margin: 0 0.4em 0.5em 0.4em;box-sizing: border-box;padding-bottom: 0.4em;background-color: white;}#sk-container-id-1 div.sk-label label {font-family: monospace;font-weight: bold;display: inline-block;line-height: 1.2em;}#sk-container-id-1 div.sk-label-container {text-align: center;}#sk-container-id-1 div.sk-container {/* jupyter's `normalize.less` sets `[hidden] { display: none; }` but bootstrap.min.css set `[hidden] { display: none !important; }` so we also need the `!important` here to be able to override the default hidden behavior on the sphinx rendered scikit-learn.org. See: https://github.com/scikit-learn/scikit-learn/issues/21755 */display: inline-block !important;position: relative;}#sk-container-id-1 div.sk-text-repr-fallback {display: none;}</style><div id=\"sk-container-id-1\" class=\"sk-top-container\"><div class=\"sk-text-repr-fallback\"><pre>SVC()</pre><b>In a Jupyter environment, please rerun this cell to show the HTML representation or trust the notebook. <br />On GitHub, the HTML representation is unable to render, please try loading this page with nbviewer.org.</b></div><div class=\"sk-container\" hidden><div class=\"sk-item\"><div class=\"sk-estimator sk-toggleable\"><input class=\"sk-toggleable__control sk-hidden--visually\" id=\"sk-estimator-id-1\" type=\"checkbox\" checked><label for=\"sk-estimator-id-1\" class=\"sk-toggleable__label sk-toggleable__label-arrow\">SVC</label><div class=\"sk-toggleable__content\"><pre>SVC()</pre></div></div></div></div></div>"
          },
          "metadata": {}
        }
      ],
      "execution_count": null
    },
    {
      "cell_type": "code",
      "source": [
        "y_pred = svc.predict(X_test)"
      ],
      "metadata": {
        "execution": {
          "iopub.status.busy": "2024-07-16T01:44:48.687683Z",
          "iopub.execute_input": "2024-07-16T01:44:48.68813Z",
          "iopub.status.idle": "2024-07-16T01:44:49.200964Z",
          "shell.execute_reply.started": "2024-07-16T01:44:48.688085Z",
          "shell.execute_reply": "2024-07-16T01:44:49.19999Z"
        },
        "trusted": true,
        "id": "S4UhE4MKdb7r"
      },
      "outputs": [],
      "execution_count": null
    },
    {
      "cell_type": "markdown",
      "source": [
        "Model Accuracy"
      ],
      "metadata": {
        "id": "vQ7j2ccwdb7r"
      }
    },
    {
      "cell_type": "code",
      "source": [
        "from sklearn.metrics import confusion_matrix, classification_report"
      ],
      "metadata": {
        "execution": {
          "iopub.status.busy": "2024-07-16T01:44:49.20253Z",
          "iopub.execute_input": "2024-07-16T01:44:49.202961Z",
          "iopub.status.idle": "2024-07-16T01:44:49.208281Z",
          "shell.execute_reply.started": "2024-07-16T01:44:49.20292Z",
          "shell.execute_reply": "2024-07-16T01:44:49.20709Z"
        },
        "trusted": true,
        "id": "9t-DZaxDdb7r"
      },
      "outputs": [],
      "execution_count": null
    },
    {
      "cell_type": "code",
      "source": [
        "confusion_matrix(y_test, y_pred)"
      ],
      "metadata": {
        "execution": {
          "iopub.status.busy": "2024-07-16T01:44:49.210181Z",
          "iopub.execute_input": "2024-07-16T01:44:49.210612Z",
          "iopub.status.idle": "2024-07-16T01:44:49.223782Z",
          "shell.execute_reply.started": "2024-07-16T01:44:49.210574Z",
          "shell.execute_reply": "2024-07-16T01:44:49.222263Z"
        },
        "trusted": true,
        "id": "codalcQMdb7r",
        "outputId": "d46c7ba5-adf6-4e46-f4df-3495bb2c5f8c"
      },
      "outputs": [
        {
          "execution_count": 61,
          "output_type": "execute_result",
          "data": {
            "text/plain": "array([[2381,   33],\n       [ 436,  150]])"
          },
          "metadata": {}
        }
      ],
      "execution_count": null
    },
    {
      "cell_type": "code",
      "source": [
        "print(classification_report(y_test, y_pred))"
      ],
      "metadata": {
        "execution": {
          "iopub.status.busy": "2024-07-16T01:44:49.225411Z",
          "iopub.execute_input": "2024-07-16T01:44:49.225823Z",
          "iopub.status.idle": "2024-07-16T01:44:49.25154Z",
          "shell.execute_reply.started": "2024-07-16T01:44:49.225788Z",
          "shell.execute_reply": "2024-07-16T01:44:49.250486Z"
        },
        "trusted": true,
        "id": "PE-ak9MTdb7r",
        "outputId": "6452ab7c-f5a9-4a61-f2ce-a5ad7028ac57"
      },
      "outputs": [
        {
          "name": "stdout",
          "text": "              precision    recall  f1-score   support\n\n           0       0.85      0.99      0.91      2414\n           1       0.82      0.26      0.39       586\n\n    accuracy                           0.84      3000\n   macro avg       0.83      0.62      0.65      3000\nweighted avg       0.84      0.84      0.81      3000\n\n",
          "output_type": "stream"
        }
      ],
      "execution_count": null
    },
    {
      "cell_type": "markdown",
      "source": [
        "Hyperparameter Tuning"
      ],
      "metadata": {
        "id": "7-qxtX7bdb7s"
      }
    },
    {
      "cell_type": "code",
      "source": [
        "from sklearn.model_selection import GridSearchCV"
      ],
      "metadata": {
        "execution": {
          "iopub.status.busy": "2024-07-16T01:44:49.252773Z",
          "iopub.execute_input": "2024-07-16T01:44:49.253123Z",
          "iopub.status.idle": "2024-07-16T01:44:49.257881Z",
          "shell.execute_reply.started": "2024-07-16T01:44:49.253095Z",
          "shell.execute_reply": "2024-07-16T01:44:49.256735Z"
        },
        "trusted": true,
        "id": "ef15jGuddb7s"
      },
      "outputs": [],
      "execution_count": null
    },
    {
      "cell_type": "code",
      "source": [
        "param_grid = {'C': [0.1,1, 10],\n",
        "              'gamma': [1,0.1,0.01],\n",
        "              'kernel': ['rbf'],\n",
        "              'class_weight' : ['balanced']}"
      ],
      "metadata": {
        "execution": {
          "iopub.status.busy": "2024-07-16T01:44:49.259399Z",
          "iopub.execute_input": "2024-07-16T01:44:49.259746Z",
          "iopub.status.idle": "2024-07-16T01:44:49.266771Z",
          "shell.execute_reply.started": "2024-07-16T01:44:49.259717Z",
          "shell.execute_reply": "2024-07-16T01:44:49.265714Z"
        },
        "trusted": true,
        "id": "46Zuxs6mdb7s"
      },
      "outputs": [],
      "execution_count": null
    },
    {
      "cell_type": "code",
      "source": [
        "grid = GridSearchCV(SVC(),param_grid,refit=True,verbose=2, cv = 2)\n",
        "grid.fit(X_train,y_train)"
      ],
      "metadata": {
        "execution": {
          "iopub.status.busy": "2024-07-16T01:44:49.268151Z",
          "iopub.execute_input": "2024-07-16T01:44:49.268546Z",
          "iopub.status.idle": "2024-07-16T01:45:12.490313Z",
          "shell.execute_reply.started": "2024-07-16T01:44:49.26851Z",
          "shell.execute_reply": "2024-07-16T01:45:12.489142Z"
        },
        "trusted": true,
        "id": "pH1fpgcidb7t",
        "outputId": "0425b448-955e-4864-becc-18454c7de5a5"
      },
      "outputs": [
        {
          "name": "stdout",
          "text": "Fitting 2 folds for each of 9 candidates, totalling 18 fits\n[CV] END ..C=0.1, class_weight=balanced, gamma=1, kernel=rbf; total time=   1.4s\n[CV] END ..C=0.1, class_weight=balanced, gamma=1, kernel=rbf; total time=   1.4s\n[CV] END C=0.1, class_weight=balanced, gamma=0.1, kernel=rbf; total time=   1.0s\n[CV] END C=0.1, class_weight=balanced, gamma=0.1, kernel=rbf; total time=   1.1s\n[CV] END C=0.1, class_weight=balanced, gamma=0.01, kernel=rbf; total time=   1.2s\n[CV] END C=0.1, class_weight=balanced, gamma=0.01, kernel=rbf; total time=   1.2s\n[CV] END ....C=1, class_weight=balanced, gamma=1, kernel=rbf; total time=   1.2s\n[CV] END ....C=1, class_weight=balanced, gamma=1, kernel=rbf; total time=   1.3s\n[CV] END ..C=1, class_weight=balanced, gamma=0.1, kernel=rbf; total time=   0.9s\n[CV] END ..C=1, class_weight=balanced, gamma=0.1, kernel=rbf; total time=   1.0s\n[CV] END .C=1, class_weight=balanced, gamma=0.01, kernel=rbf; total time=   1.0s\n[CV] END .C=1, class_weight=balanced, gamma=0.01, kernel=rbf; total time=   1.1s\n[CV] END ...C=10, class_weight=balanced, gamma=1, kernel=rbf; total time=   1.2s\n[CV] END ...C=10, class_weight=balanced, gamma=1, kernel=rbf; total time=   1.3s\n[CV] END .C=10, class_weight=balanced, gamma=0.1, kernel=rbf; total time=   1.0s\n[CV] END .C=10, class_weight=balanced, gamma=0.1, kernel=rbf; total time=   1.0s\n[CV] END C=10, class_weight=balanced, gamma=0.01, kernel=rbf; total time=   1.0s\n[CV] END C=10, class_weight=balanced, gamma=0.01, kernel=rbf; total time=   1.0s\n",
          "output_type": "stream"
        },
        {
          "execution_count": 65,
          "output_type": "execute_result",
          "data": {
            "text/plain": "GridSearchCV(cv=2, estimator=SVC(),\n             param_grid={'C': [0.1, 1, 10], 'class_weight': ['balanced'],\n                         'gamma': [1, 0.1, 0.01], 'kernel': ['rbf']},\n             verbose=2)",
            "text/html": "<style>#sk-container-id-2 {color: black;background-color: white;}#sk-container-id-2 pre{padding: 0;}#sk-container-id-2 div.sk-toggleable {background-color: white;}#sk-container-id-2 label.sk-toggleable__label {cursor: pointer;display: block;width: 100%;margin-bottom: 0;padding: 0.3em;box-sizing: border-box;text-align: center;}#sk-container-id-2 label.sk-toggleable__label-arrow:before {content: \"▸\";float: left;margin-right: 0.25em;color: #696969;}#sk-container-id-2 label.sk-toggleable__label-arrow:hover:before {color: black;}#sk-container-id-2 div.sk-estimator:hover label.sk-toggleable__label-arrow:before {color: black;}#sk-container-id-2 div.sk-toggleable__content {max-height: 0;max-width: 0;overflow: hidden;text-align: left;background-color: #f0f8ff;}#sk-container-id-2 div.sk-toggleable__content pre {margin: 0.2em;color: black;border-radius: 0.25em;background-color: #f0f8ff;}#sk-container-id-2 input.sk-toggleable__control:checked~div.sk-toggleable__content {max-height: 200px;max-width: 100%;overflow: auto;}#sk-container-id-2 input.sk-toggleable__control:checked~label.sk-toggleable__label-arrow:before {content: \"▾\";}#sk-container-id-2 div.sk-estimator input.sk-toggleable__control:checked~label.sk-toggleable__label {background-color: #d4ebff;}#sk-container-id-2 div.sk-label input.sk-toggleable__control:checked~label.sk-toggleable__label {background-color: #d4ebff;}#sk-container-id-2 input.sk-hidden--visually {border: 0;clip: rect(1px 1px 1px 1px);clip: rect(1px, 1px, 1px, 1px);height: 1px;margin: -1px;overflow: hidden;padding: 0;position: absolute;width: 1px;}#sk-container-id-2 div.sk-estimator {font-family: monospace;background-color: #f0f8ff;border: 1px dotted black;border-radius: 0.25em;box-sizing: border-box;margin-bottom: 0.5em;}#sk-container-id-2 div.sk-estimator:hover {background-color: #d4ebff;}#sk-container-id-2 div.sk-parallel-item::after {content: \"\";width: 100%;border-bottom: 1px solid gray;flex-grow: 1;}#sk-container-id-2 div.sk-label:hover label.sk-toggleable__label {background-color: #d4ebff;}#sk-container-id-2 div.sk-serial::before {content: \"\";position: absolute;border-left: 1px solid gray;box-sizing: border-box;top: 0;bottom: 0;left: 50%;z-index: 0;}#sk-container-id-2 div.sk-serial {display: flex;flex-direction: column;align-items: center;background-color: white;padding-right: 0.2em;padding-left: 0.2em;position: relative;}#sk-container-id-2 div.sk-item {position: relative;z-index: 1;}#sk-container-id-2 div.sk-parallel {display: flex;align-items: stretch;justify-content: center;background-color: white;position: relative;}#sk-container-id-2 div.sk-item::before, #sk-container-id-2 div.sk-parallel-item::before {content: \"\";position: absolute;border-left: 1px solid gray;box-sizing: border-box;top: 0;bottom: 0;left: 50%;z-index: -1;}#sk-container-id-2 div.sk-parallel-item {display: flex;flex-direction: column;z-index: 1;position: relative;background-color: white;}#sk-container-id-2 div.sk-parallel-item:first-child::after {align-self: flex-end;width: 50%;}#sk-container-id-2 div.sk-parallel-item:last-child::after {align-self: flex-start;width: 50%;}#sk-container-id-2 div.sk-parallel-item:only-child::after {width: 0;}#sk-container-id-2 div.sk-dashed-wrapped {border: 1px dashed gray;margin: 0 0.4em 0.5em 0.4em;box-sizing: border-box;padding-bottom: 0.4em;background-color: white;}#sk-container-id-2 div.sk-label label {font-family: monospace;font-weight: bold;display: inline-block;line-height: 1.2em;}#sk-container-id-2 div.sk-label-container {text-align: center;}#sk-container-id-2 div.sk-container {/* jupyter's `normalize.less` sets `[hidden] { display: none; }` but bootstrap.min.css set `[hidden] { display: none !important; }` so we also need the `!important` here to be able to override the default hidden behavior on the sphinx rendered scikit-learn.org. See: https://github.com/scikit-learn/scikit-learn/issues/21755 */display: inline-block !important;position: relative;}#sk-container-id-2 div.sk-text-repr-fallback {display: none;}</style><div id=\"sk-container-id-2\" class=\"sk-top-container\"><div class=\"sk-text-repr-fallback\"><pre>GridSearchCV(cv=2, estimator=SVC(),\n             param_grid={&#x27;C&#x27;: [0.1, 1, 10], &#x27;class_weight&#x27;: [&#x27;balanced&#x27;],\n                         &#x27;gamma&#x27;: [1, 0.1, 0.01], &#x27;kernel&#x27;: [&#x27;rbf&#x27;]},\n             verbose=2)</pre><b>In a Jupyter environment, please rerun this cell to show the HTML representation or trust the notebook. <br />On GitHub, the HTML representation is unable to render, please try loading this page with nbviewer.org.</b></div><div class=\"sk-container\" hidden><div class=\"sk-item sk-dashed-wrapped\"><div class=\"sk-label-container\"><div class=\"sk-label sk-toggleable\"><input class=\"sk-toggleable__control sk-hidden--visually\" id=\"sk-estimator-id-2\" type=\"checkbox\" ><label for=\"sk-estimator-id-2\" class=\"sk-toggleable__label sk-toggleable__label-arrow\">GridSearchCV</label><div class=\"sk-toggleable__content\"><pre>GridSearchCV(cv=2, estimator=SVC(),\n             param_grid={&#x27;C&#x27;: [0.1, 1, 10], &#x27;class_weight&#x27;: [&#x27;balanced&#x27;],\n                         &#x27;gamma&#x27;: [1, 0.1, 0.01], &#x27;kernel&#x27;: [&#x27;rbf&#x27;]},\n             verbose=2)</pre></div></div></div><div class=\"sk-parallel\"><div class=\"sk-parallel-item\"><div class=\"sk-item\"><div class=\"sk-label-container\"><div class=\"sk-label sk-toggleable\"><input class=\"sk-toggleable__control sk-hidden--visually\" id=\"sk-estimator-id-3\" type=\"checkbox\" ><label for=\"sk-estimator-id-3\" class=\"sk-toggleable__label sk-toggleable__label-arrow\">estimator: SVC</label><div class=\"sk-toggleable__content\"><pre>SVC()</pre></div></div></div><div class=\"sk-serial\"><div class=\"sk-item\"><div class=\"sk-estimator sk-toggleable\"><input class=\"sk-toggleable__control sk-hidden--visually\" id=\"sk-estimator-id-4\" type=\"checkbox\" ><label for=\"sk-estimator-id-4\" class=\"sk-toggleable__label sk-toggleable__label-arrow\">SVC</label><div class=\"sk-toggleable__content\"><pre>SVC()</pre></div></div></div></div></div></div></div></div></div></div>"
          },
          "metadata": {}
        }
      ],
      "execution_count": null
    },
    {
      "cell_type": "code",
      "source": [
        "print(grid.best_estimator_)"
      ],
      "metadata": {
        "execution": {
          "iopub.status.busy": "2024-07-16T01:45:12.4916Z",
          "iopub.execute_input": "2024-07-16T01:45:12.491945Z",
          "iopub.status.idle": "2024-07-16T01:45:12.497952Z",
          "shell.execute_reply.started": "2024-07-16T01:45:12.491915Z",
          "shell.execute_reply": "2024-07-16T01:45:12.496828Z"
        },
        "trusted": true,
        "id": "DlvgqzRZdb7t",
        "outputId": "c6204842-c3dc-4b86-a8c9-20dbd299655d"
      },
      "outputs": [
        {
          "name": "stdout",
          "text": "SVC(C=10, class_weight='balanced', gamma=1)\n",
          "output_type": "stream"
        }
      ],
      "execution_count": null
    },
    {
      "cell_type": "code",
      "source": [
        "grid_predictions = grid.predict(X_test)"
      ],
      "metadata": {
        "execution": {
          "iopub.status.busy": "2024-07-16T01:45:12.499475Z",
          "iopub.execute_input": "2024-07-16T01:45:12.499837Z",
          "iopub.status.idle": "2024-07-16T01:45:13.304488Z",
          "shell.execute_reply.started": "2024-07-16T01:45:12.499806Z",
          "shell.execute_reply": "2024-07-16T01:45:13.303249Z"
        },
        "trusted": true,
        "id": "TN4OHnD7db7u"
      },
      "outputs": [],
      "execution_count": null
    },
    {
      "cell_type": "code",
      "source": [
        "confusion_matrix(y_test,grid_predictions)"
      ],
      "metadata": {
        "execution": {
          "iopub.status.busy": "2024-07-16T01:45:13.305799Z",
          "iopub.execute_input": "2024-07-16T01:45:13.306112Z",
          "iopub.status.idle": "2024-07-16T01:45:13.315548Z",
          "shell.execute_reply.started": "2024-07-16T01:45:13.306087Z",
          "shell.execute_reply": "2024-07-16T01:45:13.314487Z"
        },
        "trusted": true,
        "id": "WynJXmPfdb7u",
        "outputId": "e13deae2-8e29-4bea-fc60-8889e30dcc2c"
      },
      "outputs": [
        {
          "execution_count": 68,
          "output_type": "execute_result",
          "data": {
            "text/plain": "array([[2159,  255],\n       [ 343,  243]])"
          },
          "metadata": {}
        }
      ],
      "execution_count": null
    },
    {
      "cell_type": "code",
      "source": [
        "print(classification_report(y_test,grid_predictions))"
      ],
      "metadata": {
        "execution": {
          "iopub.status.busy": "2024-07-16T01:45:13.316896Z",
          "iopub.execute_input": "2024-07-16T01:45:13.31721Z",
          "iopub.status.idle": "2024-07-16T01:45:13.336742Z",
          "shell.execute_reply.started": "2024-07-16T01:45:13.317183Z",
          "shell.execute_reply": "2024-07-16T01:45:13.335626Z"
        },
        "trusted": true,
        "id": "OQjYI8KRdb7u",
        "outputId": "16be953c-5ce8-4d07-8b93-a235da2bd650"
      },
      "outputs": [
        {
          "name": "stdout",
          "text": "              precision    recall  f1-score   support\n\n           0       0.86      0.89      0.88      2414\n           1       0.49      0.41      0.45       586\n\n    accuracy                           0.80      3000\n   macro avg       0.68      0.65      0.66      3000\nweighted avg       0.79      0.80      0.79      3000\n\n",
          "output_type": "stream"
        }
      ],
      "execution_count": null
    },
    {
      "cell_type": "markdown",
      "source": [
        "Model with Random Under Sampling"
      ],
      "metadata": {
        "id": "vAdp4tzEdb7u"
      }
    },
    {
      "cell_type": "code",
      "source": [
        "svc_rus = SVC()"
      ],
      "metadata": {
        "execution": {
          "iopub.status.busy": "2024-07-16T01:45:13.338229Z",
          "iopub.execute_input": "2024-07-16T01:45:13.338614Z",
          "iopub.status.idle": "2024-07-16T01:45:13.3435Z",
          "shell.execute_reply.started": "2024-07-16T01:45:13.338585Z",
          "shell.execute_reply": "2024-07-16T01:45:13.342318Z"
        },
        "trusted": true,
        "id": "3or9wS6Bdb7u"
      },
      "outputs": [],
      "execution_count": null
    },
    {
      "cell_type": "code",
      "source": [
        "svc_rus.fit(X_train_rus, y_train_rus)"
      ],
      "metadata": {
        "execution": {
          "iopub.status.busy": "2024-07-16T01:45:13.345041Z",
          "iopub.execute_input": "2024-07-16T01:45:13.345445Z",
          "iopub.status.idle": "2024-07-16T01:45:13.638025Z",
          "shell.execute_reply.started": "2024-07-16T01:45:13.345407Z",
          "shell.execute_reply": "2024-07-16T01:45:13.636988Z"
        },
        "trusted": true,
        "id": "3MOMgMfXdb7v",
        "outputId": "0b5d0b92-d6e6-4d61-9f93-eee70421c4f8"
      },
      "outputs": [
        {
          "execution_count": 71,
          "output_type": "execute_result",
          "data": {
            "text/plain": "SVC()",
            "text/html": "<style>#sk-container-id-3 {color: black;background-color: white;}#sk-container-id-3 pre{padding: 0;}#sk-container-id-3 div.sk-toggleable {background-color: white;}#sk-container-id-3 label.sk-toggleable__label {cursor: pointer;display: block;width: 100%;margin-bottom: 0;padding: 0.3em;box-sizing: border-box;text-align: center;}#sk-container-id-3 label.sk-toggleable__label-arrow:before {content: \"▸\";float: left;margin-right: 0.25em;color: #696969;}#sk-container-id-3 label.sk-toggleable__label-arrow:hover:before {color: black;}#sk-container-id-3 div.sk-estimator:hover label.sk-toggleable__label-arrow:before {color: black;}#sk-container-id-3 div.sk-toggleable__content {max-height: 0;max-width: 0;overflow: hidden;text-align: left;background-color: #f0f8ff;}#sk-container-id-3 div.sk-toggleable__content pre {margin: 0.2em;color: black;border-radius: 0.25em;background-color: #f0f8ff;}#sk-container-id-3 input.sk-toggleable__control:checked~div.sk-toggleable__content {max-height: 200px;max-width: 100%;overflow: auto;}#sk-container-id-3 input.sk-toggleable__control:checked~label.sk-toggleable__label-arrow:before {content: \"▾\";}#sk-container-id-3 div.sk-estimator input.sk-toggleable__control:checked~label.sk-toggleable__label {background-color: #d4ebff;}#sk-container-id-3 div.sk-label input.sk-toggleable__control:checked~label.sk-toggleable__label {background-color: #d4ebff;}#sk-container-id-3 input.sk-hidden--visually {border: 0;clip: rect(1px 1px 1px 1px);clip: rect(1px, 1px, 1px, 1px);height: 1px;margin: -1px;overflow: hidden;padding: 0;position: absolute;width: 1px;}#sk-container-id-3 div.sk-estimator {font-family: monospace;background-color: #f0f8ff;border: 1px dotted black;border-radius: 0.25em;box-sizing: border-box;margin-bottom: 0.5em;}#sk-container-id-3 div.sk-estimator:hover {background-color: #d4ebff;}#sk-container-id-3 div.sk-parallel-item::after {content: \"\";width: 100%;border-bottom: 1px solid gray;flex-grow: 1;}#sk-container-id-3 div.sk-label:hover label.sk-toggleable__label {background-color: #d4ebff;}#sk-container-id-3 div.sk-serial::before {content: \"\";position: absolute;border-left: 1px solid gray;box-sizing: border-box;top: 0;bottom: 0;left: 50%;z-index: 0;}#sk-container-id-3 div.sk-serial {display: flex;flex-direction: column;align-items: center;background-color: white;padding-right: 0.2em;padding-left: 0.2em;position: relative;}#sk-container-id-3 div.sk-item {position: relative;z-index: 1;}#sk-container-id-3 div.sk-parallel {display: flex;align-items: stretch;justify-content: center;background-color: white;position: relative;}#sk-container-id-3 div.sk-item::before, #sk-container-id-3 div.sk-parallel-item::before {content: \"\";position: absolute;border-left: 1px solid gray;box-sizing: border-box;top: 0;bottom: 0;left: 50%;z-index: -1;}#sk-container-id-3 div.sk-parallel-item {display: flex;flex-direction: column;z-index: 1;position: relative;background-color: white;}#sk-container-id-3 div.sk-parallel-item:first-child::after {align-self: flex-end;width: 50%;}#sk-container-id-3 div.sk-parallel-item:last-child::after {align-self: flex-start;width: 50%;}#sk-container-id-3 div.sk-parallel-item:only-child::after {width: 0;}#sk-container-id-3 div.sk-dashed-wrapped {border: 1px dashed gray;margin: 0 0.4em 0.5em 0.4em;box-sizing: border-box;padding-bottom: 0.4em;background-color: white;}#sk-container-id-3 div.sk-label label {font-family: monospace;font-weight: bold;display: inline-block;line-height: 1.2em;}#sk-container-id-3 div.sk-label-container {text-align: center;}#sk-container-id-3 div.sk-container {/* jupyter's `normalize.less` sets `[hidden] { display: none; }` but bootstrap.min.css set `[hidden] { display: none !important; }` so we also need the `!important` here to be able to override the default hidden behavior on the sphinx rendered scikit-learn.org. See: https://github.com/scikit-learn/scikit-learn/issues/21755 */display: inline-block !important;position: relative;}#sk-container-id-3 div.sk-text-repr-fallback {display: none;}</style><div id=\"sk-container-id-3\" class=\"sk-top-container\"><div class=\"sk-text-repr-fallback\"><pre>SVC()</pre><b>In a Jupyter environment, please rerun this cell to show the HTML representation or trust the notebook. <br />On GitHub, the HTML representation is unable to render, please try loading this page with nbviewer.org.</b></div><div class=\"sk-container\" hidden><div class=\"sk-item\"><div class=\"sk-estimator sk-toggleable\"><input class=\"sk-toggleable__control sk-hidden--visually\" id=\"sk-estimator-id-5\" type=\"checkbox\" checked><label for=\"sk-estimator-id-5\" class=\"sk-toggleable__label sk-toggleable__label-arrow\">SVC</label><div class=\"sk-toggleable__content\"><pre>SVC()</pre></div></div></div></div></div>"
          },
          "metadata": {}
        }
      ],
      "execution_count": null
    },
    {
      "cell_type": "code",
      "source": [
        "y_pred_rus = svc_rus.predict(X_test_rus)"
      ],
      "metadata": {
        "execution": {
          "iopub.status.busy": "2024-07-16T01:45:13.639465Z",
          "iopub.execute_input": "2024-07-16T01:45:13.639797Z",
          "iopub.status.idle": "2024-07-16T01:45:13.777794Z",
          "shell.execute_reply.started": "2024-07-16T01:45:13.639769Z",
          "shell.execute_reply": "2024-07-16T01:45:13.776662Z"
        },
        "trusted": true,
        "id": "M4e-YxVCdb7v"
      },
      "outputs": [],
      "execution_count": null
    },
    {
      "cell_type": "markdown",
      "source": [
        "Model Accuracy"
      ],
      "metadata": {
        "id": "8txLr6nmdb7v"
      }
    },
    {
      "cell_type": "code",
      "source": [
        "confusion_matrix(y_test_rus, y_pred_rus)"
      ],
      "metadata": {
        "execution": {
          "iopub.status.busy": "2024-07-16T01:45:13.779338Z",
          "iopub.execute_input": "2024-07-16T01:45:13.77987Z",
          "iopub.status.idle": "2024-07-16T01:45:13.789456Z",
          "shell.execute_reply.started": "2024-07-16T01:45:13.779812Z",
          "shell.execute_reply": "2024-07-16T01:45:13.788227Z"
        },
        "trusted": true,
        "id": "ESq7jSTWdb7v",
        "outputId": "339017ca-9eb8-42a8-890d-edbd05a4edd4"
      },
      "outputs": [
        {
          "execution_count": 73,
          "output_type": "execute_result",
          "data": {
            "text/plain": "array([[470, 157],\n       [174, 422]])"
          },
          "metadata": {}
        }
      ],
      "execution_count": null
    },
    {
      "cell_type": "code",
      "source": [
        "print(classification_report(y_test_rus, y_pred_rus))"
      ],
      "metadata": {
        "execution": {
          "iopub.status.busy": "2024-07-16T01:45:13.790894Z",
          "iopub.execute_input": "2024-07-16T01:45:13.791527Z",
          "iopub.status.idle": "2024-07-16T01:45:13.807585Z",
          "shell.execute_reply.started": "2024-07-16T01:45:13.79149Z",
          "shell.execute_reply": "2024-07-16T01:45:13.806336Z"
        },
        "trusted": true,
        "id": "Sy3XSSjSdb7v",
        "outputId": "fb1ef37d-57ea-4921-8051-c22fa25b695b"
      },
      "outputs": [
        {
          "name": "stdout",
          "text": "              precision    recall  f1-score   support\n\n           0       0.73      0.75      0.74       627\n           1       0.73      0.71      0.72       596\n\n    accuracy                           0.73      1223\n   macro avg       0.73      0.73      0.73      1223\nweighted avg       0.73      0.73      0.73      1223\n\n",
          "output_type": "stream"
        }
      ],
      "execution_count": null
    },
    {
      "cell_type": "markdown",
      "source": [
        "Hyperparameter Tunning"
      ],
      "metadata": {
        "id": "2W0MptO1db7w"
      }
    },
    {
      "cell_type": "code",
      "source": [
        "param_grid = {'C': [0.1,1, 10],\n",
        "              'gamma': [1,0.1,0.01],\n",
        "              'kernel': ['rbf'],\n",
        "              'class_weight' : ['balanced']}"
      ],
      "metadata": {
        "execution": {
          "iopub.status.busy": "2024-07-16T01:45:13.808726Z",
          "iopub.execute_input": "2024-07-16T01:45:13.80906Z",
          "iopub.status.idle": "2024-07-16T01:45:13.814208Z",
          "shell.execute_reply.started": "2024-07-16T01:45:13.809031Z",
          "shell.execute_reply": "2024-07-16T01:45:13.813149Z"
        },
        "trusted": true,
        "id": "KOIkGe_1db7w"
      },
      "outputs": [],
      "execution_count": null
    },
    {
      "cell_type": "code",
      "source": [
        "grid_rus = GridSearchCV(SVC(),param_grid,refit=True,verbose=2, cv = 2)\n",
        "grid_rus.fit(X_train_rus,y_train_rus)"
      ],
      "metadata": {
        "execution": {
          "iopub.status.busy": "2024-07-16T01:45:13.815755Z",
          "iopub.execute_input": "2024-07-16T01:45:13.816688Z",
          "iopub.status.idle": "2024-07-16T01:45:17.622728Z",
          "shell.execute_reply.started": "2024-07-16T01:45:13.816656Z",
          "shell.execute_reply": "2024-07-16T01:45:17.621606Z"
        },
        "trusted": true,
        "id": "HrHVofK_db7w",
        "outputId": "8d1e728a-c4b5-49d9-9e11-d7f1db57eb13"
      },
      "outputs": [
        {
          "name": "stdout",
          "text": "Fitting 2 folds for each of 9 candidates, totalling 18 fits\n[CV] END ..C=0.1, class_weight=balanced, gamma=1, kernel=rbf; total time=   0.2s\n[CV] END ..C=0.1, class_weight=balanced, gamma=1, kernel=rbf; total time=   0.2s\n[CV] END C=0.1, class_weight=balanced, gamma=0.1, kernel=rbf; total time=   0.2s\n[CV] END C=0.1, class_weight=balanced, gamma=0.1, kernel=rbf; total time=   0.2s\n[CV] END C=0.1, class_weight=balanced, gamma=0.01, kernel=rbf; total time=   0.2s\n[CV] END C=0.1, class_weight=balanced, gamma=0.01, kernel=rbf; total time=   0.2s\n[CV] END ....C=1, class_weight=balanced, gamma=1, kernel=rbf; total time=   0.2s\n[CV] END ....C=1, class_weight=balanced, gamma=1, kernel=rbf; total time=   0.2s\n[CV] END ..C=1, class_weight=balanced, gamma=0.1, kernel=rbf; total time=   0.2s\n[CV] END ..C=1, class_weight=balanced, gamma=0.1, kernel=rbf; total time=   0.2s\n[CV] END .C=1, class_weight=balanced, gamma=0.01, kernel=rbf; total time=   0.2s\n[CV] END .C=1, class_weight=balanced, gamma=0.01, kernel=rbf; total time=   0.2s\n[CV] END ...C=10, class_weight=balanced, gamma=1, kernel=rbf; total time=   0.2s\n[CV] END ...C=10, class_weight=balanced, gamma=1, kernel=rbf; total time=   0.2s\n[CV] END .C=10, class_weight=balanced, gamma=0.1, kernel=rbf; total time=   0.2s\n[CV] END .C=10, class_weight=balanced, gamma=0.1, kernel=rbf; total time=   0.2s\n[CV] END C=10, class_weight=balanced, gamma=0.01, kernel=rbf; total time=   0.2s\n[CV] END C=10, class_weight=balanced, gamma=0.01, kernel=rbf; total time=   0.2s\n",
          "output_type": "stream"
        },
        {
          "execution_count": 76,
          "output_type": "execute_result",
          "data": {
            "text/plain": "GridSearchCV(cv=2, estimator=SVC(),\n             param_grid={'C': [0.1, 1, 10], 'class_weight': ['balanced'],\n                         'gamma': [1, 0.1, 0.01], 'kernel': ['rbf']},\n             verbose=2)",
            "text/html": "<style>#sk-container-id-4 {color: black;background-color: white;}#sk-container-id-4 pre{padding: 0;}#sk-container-id-4 div.sk-toggleable {background-color: white;}#sk-container-id-4 label.sk-toggleable__label {cursor: pointer;display: block;width: 100%;margin-bottom: 0;padding: 0.3em;box-sizing: border-box;text-align: center;}#sk-container-id-4 label.sk-toggleable__label-arrow:before {content: \"▸\";float: left;margin-right: 0.25em;color: #696969;}#sk-container-id-4 label.sk-toggleable__label-arrow:hover:before {color: black;}#sk-container-id-4 div.sk-estimator:hover label.sk-toggleable__label-arrow:before {color: black;}#sk-container-id-4 div.sk-toggleable__content {max-height: 0;max-width: 0;overflow: hidden;text-align: left;background-color: #f0f8ff;}#sk-container-id-4 div.sk-toggleable__content pre {margin: 0.2em;color: black;border-radius: 0.25em;background-color: #f0f8ff;}#sk-container-id-4 input.sk-toggleable__control:checked~div.sk-toggleable__content {max-height: 200px;max-width: 100%;overflow: auto;}#sk-container-id-4 input.sk-toggleable__control:checked~label.sk-toggleable__label-arrow:before {content: \"▾\";}#sk-container-id-4 div.sk-estimator input.sk-toggleable__control:checked~label.sk-toggleable__label {background-color: #d4ebff;}#sk-container-id-4 div.sk-label input.sk-toggleable__control:checked~label.sk-toggleable__label {background-color: #d4ebff;}#sk-container-id-4 input.sk-hidden--visually {border: 0;clip: rect(1px 1px 1px 1px);clip: rect(1px, 1px, 1px, 1px);height: 1px;margin: -1px;overflow: hidden;padding: 0;position: absolute;width: 1px;}#sk-container-id-4 div.sk-estimator {font-family: monospace;background-color: #f0f8ff;border: 1px dotted black;border-radius: 0.25em;box-sizing: border-box;margin-bottom: 0.5em;}#sk-container-id-4 div.sk-estimator:hover {background-color: #d4ebff;}#sk-container-id-4 div.sk-parallel-item::after {content: \"\";width: 100%;border-bottom: 1px solid gray;flex-grow: 1;}#sk-container-id-4 div.sk-label:hover label.sk-toggleable__label {background-color: #d4ebff;}#sk-container-id-4 div.sk-serial::before {content: \"\";position: absolute;border-left: 1px solid gray;box-sizing: border-box;top: 0;bottom: 0;left: 50%;z-index: 0;}#sk-container-id-4 div.sk-serial {display: flex;flex-direction: column;align-items: center;background-color: white;padding-right: 0.2em;padding-left: 0.2em;position: relative;}#sk-container-id-4 div.sk-item {position: relative;z-index: 1;}#sk-container-id-4 div.sk-parallel {display: flex;align-items: stretch;justify-content: center;background-color: white;position: relative;}#sk-container-id-4 div.sk-item::before, #sk-container-id-4 div.sk-parallel-item::before {content: \"\";position: absolute;border-left: 1px solid gray;box-sizing: border-box;top: 0;bottom: 0;left: 50%;z-index: -1;}#sk-container-id-4 div.sk-parallel-item {display: flex;flex-direction: column;z-index: 1;position: relative;background-color: white;}#sk-container-id-4 div.sk-parallel-item:first-child::after {align-self: flex-end;width: 50%;}#sk-container-id-4 div.sk-parallel-item:last-child::after {align-self: flex-start;width: 50%;}#sk-container-id-4 div.sk-parallel-item:only-child::after {width: 0;}#sk-container-id-4 div.sk-dashed-wrapped {border: 1px dashed gray;margin: 0 0.4em 0.5em 0.4em;box-sizing: border-box;padding-bottom: 0.4em;background-color: white;}#sk-container-id-4 div.sk-label label {font-family: monospace;font-weight: bold;display: inline-block;line-height: 1.2em;}#sk-container-id-4 div.sk-label-container {text-align: center;}#sk-container-id-4 div.sk-container {/* jupyter's `normalize.less` sets `[hidden] { display: none; }` but bootstrap.min.css set `[hidden] { display: none !important; }` so we also need the `!important` here to be able to override the default hidden behavior on the sphinx rendered scikit-learn.org. See: https://github.com/scikit-learn/scikit-learn/issues/21755 */display: inline-block !important;position: relative;}#sk-container-id-4 div.sk-text-repr-fallback {display: none;}</style><div id=\"sk-container-id-4\" class=\"sk-top-container\"><div class=\"sk-text-repr-fallback\"><pre>GridSearchCV(cv=2, estimator=SVC(),\n             param_grid={&#x27;C&#x27;: [0.1, 1, 10], &#x27;class_weight&#x27;: [&#x27;balanced&#x27;],\n                         &#x27;gamma&#x27;: [1, 0.1, 0.01], &#x27;kernel&#x27;: [&#x27;rbf&#x27;]},\n             verbose=2)</pre><b>In a Jupyter environment, please rerun this cell to show the HTML representation or trust the notebook. <br />On GitHub, the HTML representation is unable to render, please try loading this page with nbviewer.org.</b></div><div class=\"sk-container\" hidden><div class=\"sk-item sk-dashed-wrapped\"><div class=\"sk-label-container\"><div class=\"sk-label sk-toggleable\"><input class=\"sk-toggleable__control sk-hidden--visually\" id=\"sk-estimator-id-6\" type=\"checkbox\" ><label for=\"sk-estimator-id-6\" class=\"sk-toggleable__label sk-toggleable__label-arrow\">GridSearchCV</label><div class=\"sk-toggleable__content\"><pre>GridSearchCV(cv=2, estimator=SVC(),\n             param_grid={&#x27;C&#x27;: [0.1, 1, 10], &#x27;class_weight&#x27;: [&#x27;balanced&#x27;],\n                         &#x27;gamma&#x27;: [1, 0.1, 0.01], &#x27;kernel&#x27;: [&#x27;rbf&#x27;]},\n             verbose=2)</pre></div></div></div><div class=\"sk-parallel\"><div class=\"sk-parallel-item\"><div class=\"sk-item\"><div class=\"sk-label-container\"><div class=\"sk-label sk-toggleable\"><input class=\"sk-toggleable__control sk-hidden--visually\" id=\"sk-estimator-id-7\" type=\"checkbox\" ><label for=\"sk-estimator-id-7\" class=\"sk-toggleable__label sk-toggleable__label-arrow\">estimator: SVC</label><div class=\"sk-toggleable__content\"><pre>SVC()</pre></div></div></div><div class=\"sk-serial\"><div class=\"sk-item\"><div class=\"sk-estimator sk-toggleable\"><input class=\"sk-toggleable__control sk-hidden--visually\" id=\"sk-estimator-id-8\" type=\"checkbox\" ><label for=\"sk-estimator-id-8\" class=\"sk-toggleable__label sk-toggleable__label-arrow\">SVC</label><div class=\"sk-toggleable__content\"><pre>SVC()</pre></div></div></div></div></div></div></div></div></div></div>"
          },
          "metadata": {}
        }
      ],
      "execution_count": null
    },
    {
      "cell_type": "code",
      "source": [
        "print(grid_rus.best_estimator_)"
      ],
      "metadata": {
        "execution": {
          "iopub.status.busy": "2024-07-16T01:45:17.624072Z",
          "iopub.execute_input": "2024-07-16T01:45:17.625166Z",
          "iopub.status.idle": "2024-07-16T01:45:17.630832Z",
          "shell.execute_reply.started": "2024-07-16T01:45:17.625123Z",
          "shell.execute_reply": "2024-07-16T01:45:17.629805Z"
        },
        "trusted": true,
        "id": "k2jBSkdHdb7w",
        "outputId": "383ef5d7-8a51-485b-dcf1-f307de46f10a"
      },
      "outputs": [
        {
          "name": "stdout",
          "text": "SVC(C=1, class_weight='balanced', gamma=0.1)\n",
          "output_type": "stream"
        }
      ],
      "execution_count": null
    },
    {
      "cell_type": "code",
      "source": [
        "grid_predictions_rus = grid_rus.predict(X_test_rus)"
      ],
      "metadata": {
        "execution": {
          "iopub.status.busy": "2024-07-16T01:45:17.632224Z",
          "iopub.execute_input": "2024-07-16T01:45:17.633104Z",
          "iopub.status.idle": "2024-07-16T01:45:17.772808Z",
          "shell.execute_reply.started": "2024-07-16T01:45:17.633066Z",
          "shell.execute_reply": "2024-07-16T01:45:17.771734Z"
        },
        "trusted": true,
        "id": "8wEA9Reldb7w"
      },
      "outputs": [],
      "execution_count": null
    },
    {
      "cell_type": "code",
      "source": [
        "confusion_matrix(y_test_rus,grid_predictions_rus)"
      ],
      "metadata": {
        "execution": {
          "iopub.status.busy": "2024-07-16T01:45:17.77413Z",
          "iopub.execute_input": "2024-07-16T01:45:17.774463Z",
          "iopub.status.idle": "2024-07-16T01:45:17.784996Z",
          "shell.execute_reply.started": "2024-07-16T01:45:17.774435Z",
          "shell.execute_reply": "2024-07-16T01:45:17.783743Z"
        },
        "trusted": true,
        "id": "Ugd8SsWMdb7x",
        "outputId": "236fbf7a-57b3-43d0-e570-f6fb4243bcac"
      },
      "outputs": [
        {
          "execution_count": 79,
          "output_type": "execute_result",
          "data": {
            "text/plain": "array([[476, 151],\n       [172, 424]])"
          },
          "metadata": {}
        }
      ],
      "execution_count": null
    },
    {
      "cell_type": "code",
      "source": [
        "print(classification_report(y_test_rus, y_pred_rus))"
      ],
      "metadata": {
        "execution": {
          "iopub.status.busy": "2024-07-16T01:45:17.786573Z",
          "iopub.execute_input": "2024-07-16T01:45:17.787306Z",
          "iopub.status.idle": "2024-07-16T01:45:17.804248Z",
          "shell.execute_reply.started": "2024-07-16T01:45:17.787257Z",
          "shell.execute_reply": "2024-07-16T01:45:17.803242Z"
        },
        "trusted": true,
        "id": "yNoecZk7db7x",
        "outputId": "cacee925-b9ae-4777-ce16-463538dd72d2"
      },
      "outputs": [
        {
          "name": "stdout",
          "text": "              precision    recall  f1-score   support\n\n           0       0.73      0.75      0.74       627\n           1       0.73      0.71      0.72       596\n\n    accuracy                           0.73      1223\n   macro avg       0.73      0.73      0.73      1223\nweighted avg       0.73      0.73      0.73      1223\n\n",
          "output_type": "stream"
        }
      ],
      "execution_count": null
    },
    {
      "cell_type": "markdown",
      "source": [
        "Model with Random Over Sampling"
      ],
      "metadata": {
        "id": "xrD3rO5-db7x"
      }
    },
    {
      "cell_type": "code",
      "source": [
        "svc_ros = SVC()"
      ],
      "metadata": {
        "execution": {
          "iopub.status.busy": "2024-07-16T01:45:17.814413Z",
          "iopub.execute_input": "2024-07-16T01:45:17.814783Z",
          "iopub.status.idle": "2024-07-16T01:45:17.819611Z",
          "shell.execute_reply.started": "2024-07-16T01:45:17.814751Z",
          "shell.execute_reply": "2024-07-16T01:45:17.818433Z"
        },
        "trusted": true,
        "id": "iGbhTZV-db7x"
      },
      "outputs": [],
      "execution_count": null
    },
    {
      "cell_type": "code",
      "source": [
        "svc_ros.fit(X_train_ros, y_train_ros)"
      ],
      "metadata": {
        "execution": {
          "iopub.status.busy": "2024-07-16T01:45:17.821056Z",
          "iopub.execute_input": "2024-07-16T01:45:17.821462Z",
          "iopub.status.idle": "2024-07-16T01:45:22.542348Z",
          "shell.execute_reply.started": "2024-07-16T01:45:17.821432Z",
          "shell.execute_reply": "2024-07-16T01:45:22.541154Z"
        },
        "trusted": true,
        "id": "C2ksvuzxdb7x",
        "outputId": "9f407d53-995a-4e51-d069-e187b3d10e43"
      },
      "outputs": [
        {
          "execution_count": 82,
          "output_type": "execute_result",
          "data": {
            "text/plain": "SVC()",
            "text/html": "<style>#sk-container-id-5 {color: black;background-color: white;}#sk-container-id-5 pre{padding: 0;}#sk-container-id-5 div.sk-toggleable {background-color: white;}#sk-container-id-5 label.sk-toggleable__label {cursor: pointer;display: block;width: 100%;margin-bottom: 0;padding: 0.3em;box-sizing: border-box;text-align: center;}#sk-container-id-5 label.sk-toggleable__label-arrow:before {content: \"▸\";float: left;margin-right: 0.25em;color: #696969;}#sk-container-id-5 label.sk-toggleable__label-arrow:hover:before {color: black;}#sk-container-id-5 div.sk-estimator:hover label.sk-toggleable__label-arrow:before {color: black;}#sk-container-id-5 div.sk-toggleable__content {max-height: 0;max-width: 0;overflow: hidden;text-align: left;background-color: #f0f8ff;}#sk-container-id-5 div.sk-toggleable__content pre {margin: 0.2em;color: black;border-radius: 0.25em;background-color: #f0f8ff;}#sk-container-id-5 input.sk-toggleable__control:checked~div.sk-toggleable__content {max-height: 200px;max-width: 100%;overflow: auto;}#sk-container-id-5 input.sk-toggleable__control:checked~label.sk-toggleable__label-arrow:before {content: \"▾\";}#sk-container-id-5 div.sk-estimator input.sk-toggleable__control:checked~label.sk-toggleable__label {background-color: #d4ebff;}#sk-container-id-5 div.sk-label input.sk-toggleable__control:checked~label.sk-toggleable__label {background-color: #d4ebff;}#sk-container-id-5 input.sk-hidden--visually {border: 0;clip: rect(1px 1px 1px 1px);clip: rect(1px, 1px, 1px, 1px);height: 1px;margin: -1px;overflow: hidden;padding: 0;position: absolute;width: 1px;}#sk-container-id-5 div.sk-estimator {font-family: monospace;background-color: #f0f8ff;border: 1px dotted black;border-radius: 0.25em;box-sizing: border-box;margin-bottom: 0.5em;}#sk-container-id-5 div.sk-estimator:hover {background-color: #d4ebff;}#sk-container-id-5 div.sk-parallel-item::after {content: \"\";width: 100%;border-bottom: 1px solid gray;flex-grow: 1;}#sk-container-id-5 div.sk-label:hover label.sk-toggleable__label {background-color: #d4ebff;}#sk-container-id-5 div.sk-serial::before {content: \"\";position: absolute;border-left: 1px solid gray;box-sizing: border-box;top: 0;bottom: 0;left: 50%;z-index: 0;}#sk-container-id-5 div.sk-serial {display: flex;flex-direction: column;align-items: center;background-color: white;padding-right: 0.2em;padding-left: 0.2em;position: relative;}#sk-container-id-5 div.sk-item {position: relative;z-index: 1;}#sk-container-id-5 div.sk-parallel {display: flex;align-items: stretch;justify-content: center;background-color: white;position: relative;}#sk-container-id-5 div.sk-item::before, #sk-container-id-5 div.sk-parallel-item::before {content: \"\";position: absolute;border-left: 1px solid gray;box-sizing: border-box;top: 0;bottom: 0;left: 50%;z-index: -1;}#sk-container-id-5 div.sk-parallel-item {display: flex;flex-direction: column;z-index: 1;position: relative;background-color: white;}#sk-container-id-5 div.sk-parallel-item:first-child::after {align-self: flex-end;width: 50%;}#sk-container-id-5 div.sk-parallel-item:last-child::after {align-self: flex-start;width: 50%;}#sk-container-id-5 div.sk-parallel-item:only-child::after {width: 0;}#sk-container-id-5 div.sk-dashed-wrapped {border: 1px dashed gray;margin: 0 0.4em 0.5em 0.4em;box-sizing: border-box;padding-bottom: 0.4em;background-color: white;}#sk-container-id-5 div.sk-label label {font-family: monospace;font-weight: bold;display: inline-block;line-height: 1.2em;}#sk-container-id-5 div.sk-label-container {text-align: center;}#sk-container-id-5 div.sk-container {/* jupyter's `normalize.less` sets `[hidden] { display: none; }` but bootstrap.min.css set `[hidden] { display: none !important; }` so we also need the `!important` here to be able to override the default hidden behavior on the sphinx rendered scikit-learn.org. See: https://github.com/scikit-learn/scikit-learn/issues/21755 */display: inline-block !important;position: relative;}#sk-container-id-5 div.sk-text-repr-fallback {display: none;}</style><div id=\"sk-container-id-5\" class=\"sk-top-container\"><div class=\"sk-text-repr-fallback\"><pre>SVC()</pre><b>In a Jupyter environment, please rerun this cell to show the HTML representation or trust the notebook. <br />On GitHub, the HTML representation is unable to render, please try loading this page with nbviewer.org.</b></div><div class=\"sk-container\" hidden><div class=\"sk-item\"><div class=\"sk-estimator sk-toggleable\"><input class=\"sk-toggleable__control sk-hidden--visually\" id=\"sk-estimator-id-9\" type=\"checkbox\" checked><label for=\"sk-estimator-id-9\" class=\"sk-toggleable__label sk-toggleable__label-arrow\">SVC</label><div class=\"sk-toggleable__content\"><pre>SVC()</pre></div></div></div></div></div>"
          },
          "metadata": {}
        }
      ],
      "execution_count": null
    },
    {
      "cell_type": "code",
      "source": [
        "y_pred_ros = svc_ros.predict(X_test_ros)"
      ],
      "metadata": {
        "execution": {
          "iopub.status.busy": "2024-07-16T01:45:22.543715Z",
          "iopub.execute_input": "2024-07-16T01:45:22.544072Z",
          "iopub.status.idle": "2024-07-16T01:45:24.362241Z",
          "shell.execute_reply.started": "2024-07-16T01:45:22.544043Z",
          "shell.execute_reply": "2024-07-16T01:45:24.361024Z"
        },
        "trusted": true,
        "id": "ByxLNqzBdb7x"
      },
      "outputs": [],
      "execution_count": null
    },
    {
      "cell_type": "markdown",
      "source": [
        "Model Accuracy"
      ],
      "metadata": {
        "id": "41uG_dLadb7y"
      }
    },
    {
      "cell_type": "code",
      "source": [
        "confusion_matrix(y_test_ros, y_pred_ros)"
      ],
      "metadata": {
        "execution": {
          "iopub.status.busy": "2024-07-16T01:45:24.363513Z",
          "iopub.execute_input": "2024-07-16T01:45:24.363861Z",
          "iopub.status.idle": "2024-07-16T01:45:24.373922Z",
          "shell.execute_reply.started": "2024-07-16T01:45:24.363817Z",
          "shell.execute_reply": "2024-07-16T01:45:24.372829Z"
        },
        "trusted": true,
        "id": "GpHYbGPkdb7y",
        "outputId": "40fdf371-7e2b-4e8b-f2af-d6f93fd02f16"
      },
      "outputs": [
        {
          "execution_count": 84,
          "output_type": "execute_result",
          "data": {
            "text/plain": "array([[1823,  556],\n       [ 626, 1773]])"
          },
          "metadata": {}
        }
      ],
      "execution_count": null
    },
    {
      "cell_type": "code",
      "source": [
        "print(classification_report(y_test_ros, y_pred_ros))"
      ],
      "metadata": {
        "execution": {
          "iopub.status.busy": "2024-07-16T01:45:24.375411Z",
          "iopub.execute_input": "2024-07-16T01:45:24.375856Z",
          "iopub.status.idle": "2024-07-16T01:45:24.399298Z",
          "shell.execute_reply.started": "2024-07-16T01:45:24.375802Z",
          "shell.execute_reply": "2024-07-16T01:45:24.398192Z"
        },
        "trusted": true,
        "id": "SuEMywX7db7y",
        "outputId": "907061d4-ecfa-4f96-8502-c93ed2fbccbd"
      },
      "outputs": [
        {
          "name": "stdout",
          "text": "              precision    recall  f1-score   support\n\n           0       0.74      0.77      0.76      2379\n           1       0.76      0.74      0.75      2399\n\n    accuracy                           0.75      4778\n   macro avg       0.75      0.75      0.75      4778\nweighted avg       0.75      0.75      0.75      4778\n\n",
          "output_type": "stream"
        }
      ],
      "execution_count": null
    },
    {
      "cell_type": "markdown",
      "source": [
        "Hyperparameter Tuning"
      ],
      "metadata": {
        "id": "ynXC0Oaddb7y"
      }
    },
    {
      "cell_type": "code",
      "source": [
        "param_grid = {'C': [0.1,1, 10],\n",
        "              'gamma': [1,0.1,0.01],\n",
        "              'kernel': ['rbf'],\n",
        "              'class_weight' : ['balanced']}"
      ],
      "metadata": {
        "execution": {
          "iopub.status.busy": "2024-07-16T01:45:24.400489Z",
          "iopub.execute_input": "2024-07-16T01:45:24.400814Z",
          "iopub.status.idle": "2024-07-16T01:45:24.405717Z",
          "shell.execute_reply.started": "2024-07-16T01:45:24.400787Z",
          "shell.execute_reply": "2024-07-16T01:45:24.404643Z"
        },
        "trusted": true,
        "id": "q6Lf409Qdb7z"
      },
      "outputs": [],
      "execution_count": null
    },
    {
      "cell_type": "code",
      "source": [
        "grid_ros = GridSearchCV(SVC(),param_grid,refit=True,verbose=2, cv = 2)\n",
        "grid_ros.fit(X_train_ros,y_train_ros)"
      ],
      "metadata": {
        "execution": {
          "iopub.status.busy": "2024-07-16T01:45:24.407045Z",
          "iopub.execute_input": "2024-07-16T01:45:24.407419Z",
          "iopub.status.idle": "2024-07-16T01:46:22.6533Z",
          "shell.execute_reply.started": "2024-07-16T01:45:24.407384Z",
          "shell.execute_reply": "2024-07-16T01:46:22.652119Z"
        },
        "trusted": true,
        "id": "wDuA6BpJdb7z",
        "outputId": "fc31a0a0-5cae-4933-f040-d0e59abc6f86"
      },
      "outputs": [
        {
          "name": "stdout",
          "text": "Fitting 2 folds for each of 9 candidates, totalling 18 fits\n[CV] END ..C=0.1, class_weight=balanced, gamma=1, kernel=rbf; total time=   3.5s\n[CV] END ..C=0.1, class_weight=balanced, gamma=1, kernel=rbf; total time=   3.6s\n[CV] END C=0.1, class_weight=balanced, gamma=0.1, kernel=rbf; total time=   2.6s\n[CV] END C=0.1, class_weight=balanced, gamma=0.1, kernel=rbf; total time=   2.5s\n[CV] END C=0.1, class_weight=balanced, gamma=0.01, kernel=rbf; total time=   2.9s\n[CV] END C=0.1, class_weight=balanced, gamma=0.01, kernel=rbf; total time=   2.9s\n[CV] END ....C=1, class_weight=balanced, gamma=1, kernel=rbf; total time=   3.0s\n[CV] END ....C=1, class_weight=balanced, gamma=1, kernel=rbf; total time=   3.0s\n[CV] END ..C=1, class_weight=balanced, gamma=0.1, kernel=rbf; total time=   2.3s\n[CV] END ..C=1, class_weight=balanced, gamma=0.1, kernel=rbf; total time=   2.2s\n[CV] END .C=1, class_weight=balanced, gamma=0.01, kernel=rbf; total time=   2.6s\n[CV] END .C=1, class_weight=balanced, gamma=0.01, kernel=rbf; total time=   2.4s\n[CV] END ...C=10, class_weight=balanced, gamma=1, kernel=rbf; total time=   2.9s\n[CV] END ...C=10, class_weight=balanced, gamma=1, kernel=rbf; total time=   2.8s\n[CV] END .C=10, class_weight=balanced, gamma=0.1, kernel=rbf; total time=   2.7s\n[CV] END .C=10, class_weight=balanced, gamma=0.1, kernel=rbf; total time=   2.5s\n[CV] END C=10, class_weight=balanced, gamma=0.01, kernel=rbf; total time=   2.5s\n[CV] END C=10, class_weight=balanced, gamma=0.01, kernel=rbf; total time=   2.4s\n",
          "output_type": "stream"
        },
        {
          "execution_count": 87,
          "output_type": "execute_result",
          "data": {
            "text/plain": "GridSearchCV(cv=2, estimator=SVC(),\n             param_grid={'C': [0.1, 1, 10], 'class_weight': ['balanced'],\n                         'gamma': [1, 0.1, 0.01], 'kernel': ['rbf']},\n             verbose=2)",
            "text/html": "<style>#sk-container-id-6 {color: black;background-color: white;}#sk-container-id-6 pre{padding: 0;}#sk-container-id-6 div.sk-toggleable {background-color: white;}#sk-container-id-6 label.sk-toggleable__label {cursor: pointer;display: block;width: 100%;margin-bottom: 0;padding: 0.3em;box-sizing: border-box;text-align: center;}#sk-container-id-6 label.sk-toggleable__label-arrow:before {content: \"▸\";float: left;margin-right: 0.25em;color: #696969;}#sk-container-id-6 label.sk-toggleable__label-arrow:hover:before {color: black;}#sk-container-id-6 div.sk-estimator:hover label.sk-toggleable__label-arrow:before {color: black;}#sk-container-id-6 div.sk-toggleable__content {max-height: 0;max-width: 0;overflow: hidden;text-align: left;background-color: #f0f8ff;}#sk-container-id-6 div.sk-toggleable__content pre {margin: 0.2em;color: black;border-radius: 0.25em;background-color: #f0f8ff;}#sk-container-id-6 input.sk-toggleable__control:checked~div.sk-toggleable__content {max-height: 200px;max-width: 100%;overflow: auto;}#sk-container-id-6 input.sk-toggleable__control:checked~label.sk-toggleable__label-arrow:before {content: \"▾\";}#sk-container-id-6 div.sk-estimator input.sk-toggleable__control:checked~label.sk-toggleable__label {background-color: #d4ebff;}#sk-container-id-6 div.sk-label input.sk-toggleable__control:checked~label.sk-toggleable__label {background-color: #d4ebff;}#sk-container-id-6 input.sk-hidden--visually {border: 0;clip: rect(1px 1px 1px 1px);clip: rect(1px, 1px, 1px, 1px);height: 1px;margin: -1px;overflow: hidden;padding: 0;position: absolute;width: 1px;}#sk-container-id-6 div.sk-estimator {font-family: monospace;background-color: #f0f8ff;border: 1px dotted black;border-radius: 0.25em;box-sizing: border-box;margin-bottom: 0.5em;}#sk-container-id-6 div.sk-estimator:hover {background-color: #d4ebff;}#sk-container-id-6 div.sk-parallel-item::after {content: \"\";width: 100%;border-bottom: 1px solid gray;flex-grow: 1;}#sk-container-id-6 div.sk-label:hover label.sk-toggleable__label {background-color: #d4ebff;}#sk-container-id-6 div.sk-serial::before {content: \"\";position: absolute;border-left: 1px solid gray;box-sizing: border-box;top: 0;bottom: 0;left: 50%;z-index: 0;}#sk-container-id-6 div.sk-serial {display: flex;flex-direction: column;align-items: center;background-color: white;padding-right: 0.2em;padding-left: 0.2em;position: relative;}#sk-container-id-6 div.sk-item {position: relative;z-index: 1;}#sk-container-id-6 div.sk-parallel {display: flex;align-items: stretch;justify-content: center;background-color: white;position: relative;}#sk-container-id-6 div.sk-item::before, #sk-container-id-6 div.sk-parallel-item::before {content: \"\";position: absolute;border-left: 1px solid gray;box-sizing: border-box;top: 0;bottom: 0;left: 50%;z-index: -1;}#sk-container-id-6 div.sk-parallel-item {display: flex;flex-direction: column;z-index: 1;position: relative;background-color: white;}#sk-container-id-6 div.sk-parallel-item:first-child::after {align-self: flex-end;width: 50%;}#sk-container-id-6 div.sk-parallel-item:last-child::after {align-self: flex-start;width: 50%;}#sk-container-id-6 div.sk-parallel-item:only-child::after {width: 0;}#sk-container-id-6 div.sk-dashed-wrapped {border: 1px dashed gray;margin: 0 0.4em 0.5em 0.4em;box-sizing: border-box;padding-bottom: 0.4em;background-color: white;}#sk-container-id-6 div.sk-label label {font-family: monospace;font-weight: bold;display: inline-block;line-height: 1.2em;}#sk-container-id-6 div.sk-label-container {text-align: center;}#sk-container-id-6 div.sk-container {/* jupyter's `normalize.less` sets `[hidden] { display: none; }` but bootstrap.min.css set `[hidden] { display: none !important; }` so we also need the `!important` here to be able to override the default hidden behavior on the sphinx rendered scikit-learn.org. See: https://github.com/scikit-learn/scikit-learn/issues/21755 */display: inline-block !important;position: relative;}#sk-container-id-6 div.sk-text-repr-fallback {display: none;}</style><div id=\"sk-container-id-6\" class=\"sk-top-container\"><div class=\"sk-text-repr-fallback\"><pre>GridSearchCV(cv=2, estimator=SVC(),\n             param_grid={&#x27;C&#x27;: [0.1, 1, 10], &#x27;class_weight&#x27;: [&#x27;balanced&#x27;],\n                         &#x27;gamma&#x27;: [1, 0.1, 0.01], &#x27;kernel&#x27;: [&#x27;rbf&#x27;]},\n             verbose=2)</pre><b>In a Jupyter environment, please rerun this cell to show the HTML representation or trust the notebook. <br />On GitHub, the HTML representation is unable to render, please try loading this page with nbviewer.org.</b></div><div class=\"sk-container\" hidden><div class=\"sk-item sk-dashed-wrapped\"><div class=\"sk-label-container\"><div class=\"sk-label sk-toggleable\"><input class=\"sk-toggleable__control sk-hidden--visually\" id=\"sk-estimator-id-10\" type=\"checkbox\" ><label for=\"sk-estimator-id-10\" class=\"sk-toggleable__label sk-toggleable__label-arrow\">GridSearchCV</label><div class=\"sk-toggleable__content\"><pre>GridSearchCV(cv=2, estimator=SVC(),\n             param_grid={&#x27;C&#x27;: [0.1, 1, 10], &#x27;class_weight&#x27;: [&#x27;balanced&#x27;],\n                         &#x27;gamma&#x27;: [1, 0.1, 0.01], &#x27;kernel&#x27;: [&#x27;rbf&#x27;]},\n             verbose=2)</pre></div></div></div><div class=\"sk-parallel\"><div class=\"sk-parallel-item\"><div class=\"sk-item\"><div class=\"sk-label-container\"><div class=\"sk-label sk-toggleable\"><input class=\"sk-toggleable__control sk-hidden--visually\" id=\"sk-estimator-id-11\" type=\"checkbox\" ><label for=\"sk-estimator-id-11\" class=\"sk-toggleable__label sk-toggleable__label-arrow\">estimator: SVC</label><div class=\"sk-toggleable__content\"><pre>SVC()</pre></div></div></div><div class=\"sk-serial\"><div class=\"sk-item\"><div class=\"sk-estimator sk-toggleable\"><input class=\"sk-toggleable__control sk-hidden--visually\" id=\"sk-estimator-id-12\" type=\"checkbox\" ><label for=\"sk-estimator-id-12\" class=\"sk-toggleable__label sk-toggleable__label-arrow\">SVC</label><div class=\"sk-toggleable__content\"><pre>SVC()</pre></div></div></div></div></div></div></div></div></div></div>"
          },
          "metadata": {}
        }
      ],
      "execution_count": null
    },
    {
      "cell_type": "code",
      "source": [
        "print(grid_ros.best_estimator_)"
      ],
      "metadata": {
        "execution": {
          "iopub.status.busy": "2024-07-16T01:46:22.654808Z",
          "iopub.execute_input": "2024-07-16T01:46:22.655173Z",
          "iopub.status.idle": "2024-07-16T01:46:22.661195Z",
          "shell.execute_reply.started": "2024-07-16T01:46:22.655143Z",
          "shell.execute_reply": "2024-07-16T01:46:22.660001Z"
        },
        "trusted": true,
        "id": "ZKHFML81db70",
        "outputId": "a59f54be-803c-4a4d-d9e0-99c829015c8a"
      },
      "outputs": [
        {
          "name": "stdout",
          "text": "SVC(C=10, class_weight='balanced', gamma=1)\n",
          "output_type": "stream"
        }
      ],
      "execution_count": null
    },
    {
      "cell_type": "code",
      "source": [
        "grid_predictions_ros = grid_ros.predict(X_test_ros)"
      ],
      "metadata": {
        "execution": {
          "iopub.status.busy": "2024-07-16T01:46:22.663095Z",
          "iopub.execute_input": "2024-07-16T01:46:22.663633Z",
          "iopub.status.idle": "2024-07-16T01:46:24.398953Z",
          "shell.execute_reply.started": "2024-07-16T01:46:22.663591Z",
          "shell.execute_reply": "2024-07-16T01:46:24.397908Z"
        },
        "trusted": true,
        "id": "VJ-qqp5ddb70"
      },
      "outputs": [],
      "execution_count": null
    },
    {
      "cell_type": "code",
      "source": [
        "confusion_matrix(y_test_ros, grid_predictions_ros)"
      ],
      "metadata": {
        "execution": {
          "iopub.status.busy": "2024-07-16T01:46:24.400196Z",
          "iopub.execute_input": "2024-07-16T01:46:24.400526Z",
          "iopub.status.idle": "2024-07-16T01:46:24.410452Z",
          "shell.execute_reply.started": "2024-07-16T01:46:24.400498Z",
          "shell.execute_reply": "2024-07-16T01:46:24.409227Z"
        },
        "trusted": true,
        "id": "etiHfTuDdb70",
        "outputId": "d1f26595-c04e-4fec-9ad4-0773c8b246fa"
      },
      "outputs": [
        {
          "execution_count": 90,
          "output_type": "execute_result",
          "data": {
            "text/plain": "array([[2047,  332],\n       [  68, 2331]])"
          },
          "metadata": {}
        }
      ],
      "execution_count": null
    },
    {
      "cell_type": "code",
      "source": [
        "print(classification_report(y_test_ros,grid_predictions_ros))"
      ],
      "metadata": {
        "execution": {
          "iopub.status.busy": "2024-07-16T01:46:24.41176Z",
          "iopub.execute_input": "2024-07-16T01:46:24.412142Z",
          "iopub.status.idle": "2024-07-16T01:46:24.435591Z",
          "shell.execute_reply.started": "2024-07-16T01:46:24.412111Z",
          "shell.execute_reply": "2024-07-16T01:46:24.434506Z"
        },
        "trusted": true,
        "id": "bNnm1Nrudb71",
        "outputId": "96b99302-49f2-42f5-f439-d6ac9db15bea"
      },
      "outputs": [
        {
          "name": "stdout",
          "text": "              precision    recall  f1-score   support\n\n           0       0.97      0.86      0.91      2379\n           1       0.88      0.97      0.92      2399\n\n    accuracy                           0.92      4778\n   macro avg       0.92      0.92      0.92      4778\nweighted avg       0.92      0.92      0.92      4778\n\n",
          "output_type": "stream"
        }
      ],
      "execution_count": null
    },
    {
      "cell_type": "code",
      "source": [
        "!pip install streamlit pyngrok --quiet"
      ],
      "metadata": {
        "id": "XHsoScNhdq7r",
        "outputId": "bea8b324-32f8-46bb-b5d7-051cf734f8d5",
        "colab": {
          "base_uri": "https://localhost:8080/",
          "height": 0
        }
      },
      "execution_count": 1,
      "outputs": [
        {
          "output_type": "stream",
          "name": "stdout",
          "text": [
            "\u001b[2K     \u001b[90m━━━━━━━━━━━━━━━━━━━━━━━━━━━━━━━━━━━━━━━\u001b[0m \u001b[32m44.3/44.3 kB\u001b[0m \u001b[31m774.9 kB/s\u001b[0m eta \u001b[36m0:00:00\u001b[0m\n",
            "\u001b[2K   \u001b[90m━━━━━━━━━━━━━━━━━━━━━━━━━━━━━━━━━━━━━━━━\u001b[0m \u001b[32m9.9/9.9 MB\u001b[0m \u001b[31m37.8 MB/s\u001b[0m eta \u001b[36m0:00:00\u001b[0m\n",
            "\u001b[2K   \u001b[90m━━━━━━━━━━━━━━━━━━━━━━━━━━━━━━━━━━━━━━━━\u001b[0m \u001b[32m6.9/6.9 MB\u001b[0m \u001b[31m27.9 MB/s\u001b[0m eta \u001b[36m0:00:00\u001b[0m\n",
            "\u001b[2K   \u001b[90m━━━━━━━━━━━━━━━━━━━━━━━━━━━━━━━━━━━━━━━━\u001b[0m \u001b[32m79.1/79.1 kB\u001b[0m \u001b[31m4.7 MB/s\u001b[0m eta \u001b[36m0:00:00\u001b[0m\n",
            "\u001b[?25h"
          ]
        }
      ]
    },
    {
      "cell_type": "code",
      "source": [
        "from google.colab import files\n",
        "uploaded = files.upload()"
      ],
      "metadata": {
        "colab": {
          "base_uri": "https://localhost:8080/",
          "height": 73
        },
        "id": "fOAA7OZifNeE",
        "outputId": "75075d5c-b632-4a4e-a7be-89917f546fba"
      },
      "execution_count": 11,
      "outputs": [
        {
          "output_type": "display_data",
          "data": {
            "text/plain": [
              "<IPython.core.display.HTML object>"
            ],
            "text/html": [
              "\n",
              "     <input type=\"file\" id=\"files-9c69a812-eedc-4e86-aa9a-45a01b11f124\" name=\"files[]\" multiple disabled\n",
              "        style=\"border:none\" />\n",
              "     <output id=\"result-9c69a812-eedc-4e86-aa9a-45a01b11f124\">\n",
              "      Upload widget is only available when the cell has been executed in the\n",
              "      current browser session. Please rerun this cell to enable.\n",
              "      </output>\n",
              "      <script>// Copyright 2017 Google LLC\n",
              "//\n",
              "// Licensed under the Apache License, Version 2.0 (the \"License\");\n",
              "// you may not use this file except in compliance with the License.\n",
              "// You may obtain a copy of the License at\n",
              "//\n",
              "//      http://www.apache.org/licenses/LICENSE-2.0\n",
              "//\n",
              "// Unless required by applicable law or agreed to in writing, software\n",
              "// distributed under the License is distributed on an \"AS IS\" BASIS,\n",
              "// WITHOUT WARRANTIES OR CONDITIONS OF ANY KIND, either express or implied.\n",
              "// See the License for the specific language governing permissions and\n",
              "// limitations under the License.\n",
              "\n",
              "/**\n",
              " * @fileoverview Helpers for google.colab Python module.\n",
              " */\n",
              "(function(scope) {\n",
              "function span(text, styleAttributes = {}) {\n",
              "  const element = document.createElement('span');\n",
              "  element.textContent = text;\n",
              "  for (const key of Object.keys(styleAttributes)) {\n",
              "    element.style[key] = styleAttributes[key];\n",
              "  }\n",
              "  return element;\n",
              "}\n",
              "\n",
              "// Max number of bytes which will be uploaded at a time.\n",
              "const MAX_PAYLOAD_SIZE = 100 * 1024;\n",
              "\n",
              "function _uploadFiles(inputId, outputId) {\n",
              "  const steps = uploadFilesStep(inputId, outputId);\n",
              "  const outputElement = document.getElementById(outputId);\n",
              "  // Cache steps on the outputElement to make it available for the next call\n",
              "  // to uploadFilesContinue from Python.\n",
              "  outputElement.steps = steps;\n",
              "\n",
              "  return _uploadFilesContinue(outputId);\n",
              "}\n",
              "\n",
              "// This is roughly an async generator (not supported in the browser yet),\n",
              "// where there are multiple asynchronous steps and the Python side is going\n",
              "// to poll for completion of each step.\n",
              "// This uses a Promise to block the python side on completion of each step,\n",
              "// then passes the result of the previous step as the input to the next step.\n",
              "function _uploadFilesContinue(outputId) {\n",
              "  const outputElement = document.getElementById(outputId);\n",
              "  const steps = outputElement.steps;\n",
              "\n",
              "  const next = steps.next(outputElement.lastPromiseValue);\n",
              "  return Promise.resolve(next.value.promise).then((value) => {\n",
              "    // Cache the last promise value to make it available to the next\n",
              "    // step of the generator.\n",
              "    outputElement.lastPromiseValue = value;\n",
              "    return next.value.response;\n",
              "  });\n",
              "}\n",
              "\n",
              "/**\n",
              " * Generator function which is called between each async step of the upload\n",
              " * process.\n",
              " * @param {string} inputId Element ID of the input file picker element.\n",
              " * @param {string} outputId Element ID of the output display.\n",
              " * @return {!Iterable<!Object>} Iterable of next steps.\n",
              " */\n",
              "function* uploadFilesStep(inputId, outputId) {\n",
              "  const inputElement = document.getElementById(inputId);\n",
              "  inputElement.disabled = false;\n",
              "\n",
              "  const outputElement = document.getElementById(outputId);\n",
              "  outputElement.innerHTML = '';\n",
              "\n",
              "  const pickedPromise = new Promise((resolve) => {\n",
              "    inputElement.addEventListener('change', (e) => {\n",
              "      resolve(e.target.files);\n",
              "    });\n",
              "  });\n",
              "\n",
              "  const cancel = document.createElement('button');\n",
              "  inputElement.parentElement.appendChild(cancel);\n",
              "  cancel.textContent = 'Cancel upload';\n",
              "  const cancelPromise = new Promise((resolve) => {\n",
              "    cancel.onclick = () => {\n",
              "      resolve(null);\n",
              "    };\n",
              "  });\n",
              "\n",
              "  // Wait for the user to pick the files.\n",
              "  const files = yield {\n",
              "    promise: Promise.race([pickedPromise, cancelPromise]),\n",
              "    response: {\n",
              "      action: 'starting',\n",
              "    }\n",
              "  };\n",
              "\n",
              "  cancel.remove();\n",
              "\n",
              "  // Disable the input element since further picks are not allowed.\n",
              "  inputElement.disabled = true;\n",
              "\n",
              "  if (!files) {\n",
              "    return {\n",
              "      response: {\n",
              "        action: 'complete',\n",
              "      }\n",
              "    };\n",
              "  }\n",
              "\n",
              "  for (const file of files) {\n",
              "    const li = document.createElement('li');\n",
              "    li.append(span(file.name, {fontWeight: 'bold'}));\n",
              "    li.append(span(\n",
              "        `(${file.type || 'n/a'}) - ${file.size} bytes, ` +\n",
              "        `last modified: ${\n",
              "            file.lastModifiedDate ? file.lastModifiedDate.toLocaleDateString() :\n",
              "                                    'n/a'} - `));\n",
              "    const percent = span('0% done');\n",
              "    li.appendChild(percent);\n",
              "\n",
              "    outputElement.appendChild(li);\n",
              "\n",
              "    const fileDataPromise = new Promise((resolve) => {\n",
              "      const reader = new FileReader();\n",
              "      reader.onload = (e) => {\n",
              "        resolve(e.target.result);\n",
              "      };\n",
              "      reader.readAsArrayBuffer(file);\n",
              "    });\n",
              "    // Wait for the data to be ready.\n",
              "    let fileData = yield {\n",
              "      promise: fileDataPromise,\n",
              "      response: {\n",
              "        action: 'continue',\n",
              "      }\n",
              "    };\n",
              "\n",
              "    // Use a chunked sending to avoid message size limits. See b/62115660.\n",
              "    let position = 0;\n",
              "    do {\n",
              "      const length = Math.min(fileData.byteLength - position, MAX_PAYLOAD_SIZE);\n",
              "      const chunk = new Uint8Array(fileData, position, length);\n",
              "      position += length;\n",
              "\n",
              "      const base64 = btoa(String.fromCharCode.apply(null, chunk));\n",
              "      yield {\n",
              "        response: {\n",
              "          action: 'append',\n",
              "          file: file.name,\n",
              "          data: base64,\n",
              "        },\n",
              "      };\n",
              "\n",
              "      let percentDone = fileData.byteLength === 0 ?\n",
              "          100 :\n",
              "          Math.round((position / fileData.byteLength) * 100);\n",
              "      percent.textContent = `${percentDone}% done`;\n",
              "\n",
              "    } while (position < fileData.byteLength);\n",
              "  }\n",
              "\n",
              "  // All done.\n",
              "  yield {\n",
              "    response: {\n",
              "      action: 'complete',\n",
              "    }\n",
              "  };\n",
              "}\n",
              "\n",
              "scope.google = scope.google || {};\n",
              "scope.google.colab = scope.google.colab || {};\n",
              "scope.google.colab._files = {\n",
              "  _uploadFiles,\n",
              "  _uploadFilesContinue,\n",
              "};\n",
              "})(self);\n",
              "</script> "
            ]
          },
          "metadata": {}
        },
        {
          "output_type": "stream",
          "name": "stdout",
          "text": [
            "Saving model.pkl to model (1).pkl\n"
          ]
        }
      ]
    },
    {
      "cell_type": "code",
      "source": [
        "import streamlit as st\n",
        "import pickle\n",
        "import numpy as np\n",
        "\n",
        "# Load trained model\n",
        "with open(\"model.pkl\", \"rb\") as f:\n",
        "    model = pickle.load(f)\n",
        "\n",
        "st.title(\"🏦 Bank Customer Churn Predictor\")\n",
        "\n",
        "# Input fields (same as before)\n",
        "credit_score = st.slider(\"Credit Score\", 300, 900, 650)\n",
        "age = st.slider(\"Age\", 18, 100, 40)\n",
        "tenure = st.slider(\"Tenure (years)\", 0, 10, 3)\n",
        "balance = st.number_input(\"Account Balance\", 0.0, 250000.0, 60000.0)\n",
        "num_of_products = st.selectbox(\"Number of Products\", [1, 2, 3, 4])\n",
        "has_cr_card = 1 if st.selectbox(\"Has Credit Card?\", [\"Yes\", \"No\"]) == \"Yes\" else 0\n",
        "is_active_member = 1 if st.selectbox(\"Is Active Member?\", [\"Yes\", \"No\"]) == \"Yes\" else 0\n",
        "estimated_salary = st.number_input(\"Estimated Salary\", 0.0, 200000.0, 50000.0)\n",
        "gender = st.selectbox(\"Gender\", [\"Male\", \"Female\"])\n",
        "geography = st.selectbox(\"Geography\", [\"France\", \"Spain\", \"Germany\"])\n",
        "\n",
        "# One-hot encoding for categorical variables\n",
        "gender_num = 1 if gender == \"Male\" else 0\n",
        "geo_france = 1 if geography == \"France\" else 0\n",
        "geo_spain = 1 if geography == \"Spain\" else 0\n",
        "geo_germany = 1 if geography == \"Germany\" else 0\n",
        "\n",
        "# Prepare input data\n",
        "input_data = np.array([[credit_score, gender_num, age, tenure, balance,\n",
        "                        num_of_products, has_cr_card, is_active_member,\n",
        "                        estimated_salary, geo_france, geo_germany, geo_spain]])\n",
        "\n",
        "# Predict\n",
        "if st.button(\"Predict Churn\"):\n",
        "    prediction = model.predict(input_data)[0]\n",
        "    if prediction == 1:\n",
        "        st.error(\"🔴 Prediction: High Risk of Churn\")\n",
        "    else:\n",
        "        st.success(\"🟢 Prediction: Low Risk of Churn\")\n"
      ],
      "metadata": {
        "colab": {
          "base_uri": "https://localhost:8080/",
          "height": 0
        },
        "id": "YwYqvPv8d-mp",
        "outputId": "0c8a7e31-e173-46eb-e5ef-eb4e66d8883c"
      },
      "execution_count": 12,
      "outputs": [
        {
          "output_type": "stream",
          "name": "stderr",
          "text": [
            "2025-05-09 05:32:43.778 WARNING streamlit.runtime.scriptrunner_utils.script_run_context: Thread 'MainThread': missing ScriptRunContext! This warning can be ignored when running in bare mode.\n",
            "2025-05-09 05:32:44.164 \n",
            "  \u001b[33m\u001b[1mWarning:\u001b[0m to view this Streamlit app on a browser, run it with the following\n",
            "  command:\n",
            "\n",
            "    streamlit run /usr/local/lib/python3.11/dist-packages/colab_kernel_launcher.py [ARGUMENTS]\n",
            "2025-05-09 05:32:44.172 Thread 'MainThread': missing ScriptRunContext! This warning can be ignored when running in bare mode.\n",
            "2025-05-09 05:32:44.173 Thread 'MainThread': missing ScriptRunContext! This warning can be ignored when running in bare mode.\n",
            "2025-05-09 05:32:44.175 Thread 'MainThread': missing ScriptRunContext! This warning can be ignored when running in bare mode.\n",
            "2025-05-09 05:32:44.176 Thread 'MainThread': missing ScriptRunContext! This warning can be ignored when running in bare mode.\n",
            "2025-05-09 05:32:44.177 Thread 'MainThread': missing ScriptRunContext! This warning can be ignored when running in bare mode.\n",
            "2025-05-09 05:32:44.178 Thread 'MainThread': missing ScriptRunContext! This warning can be ignored when running in bare mode.\n",
            "2025-05-09 05:32:44.179 Thread 'MainThread': missing ScriptRunContext! This warning can be ignored when running in bare mode.\n",
            "2025-05-09 05:32:44.180 Thread 'MainThread': missing ScriptRunContext! This warning can be ignored when running in bare mode.\n",
            "2025-05-09 05:32:44.181 Thread 'MainThread': missing ScriptRunContext! This warning can be ignored when running in bare mode.\n",
            "2025-05-09 05:32:44.183 Thread 'MainThread': missing ScriptRunContext! This warning can be ignored when running in bare mode.\n",
            "2025-05-09 05:32:44.184 Thread 'MainThread': missing ScriptRunContext! This warning can be ignored when running in bare mode.\n",
            "2025-05-09 05:32:44.186 Thread 'MainThread': missing ScriptRunContext! This warning can be ignored when running in bare mode.\n",
            "2025-05-09 05:32:44.186 Thread 'MainThread': missing ScriptRunContext! This warning can be ignored when running in bare mode.\n",
            "2025-05-09 05:32:44.188 Thread 'MainThread': missing ScriptRunContext! This warning can be ignored when running in bare mode.\n",
            "2025-05-09 05:32:44.189 Thread 'MainThread': missing ScriptRunContext! This warning can be ignored when running in bare mode.\n",
            "2025-05-09 05:32:44.189 Thread 'MainThread': missing ScriptRunContext! This warning can be ignored when running in bare mode.\n",
            "2025-05-09 05:32:44.190 Thread 'MainThread': missing ScriptRunContext! This warning can be ignored when running in bare mode.\n",
            "2025-05-09 05:32:44.191 Thread 'MainThread': missing ScriptRunContext! This warning can be ignored when running in bare mode.\n",
            "2025-05-09 05:32:44.192 Thread 'MainThread': missing ScriptRunContext! This warning can be ignored when running in bare mode.\n",
            "2025-05-09 05:32:44.192 Thread 'MainThread': missing ScriptRunContext! This warning can be ignored when running in bare mode.\n",
            "2025-05-09 05:32:44.195 Session state does not function when running a script without `streamlit run`\n",
            "2025-05-09 05:32:44.195 Thread 'MainThread': missing ScriptRunContext! This warning can be ignored when running in bare mode.\n",
            "2025-05-09 05:32:44.197 Thread 'MainThread': missing ScriptRunContext! This warning can be ignored when running in bare mode.\n",
            "2025-05-09 05:32:44.199 Thread 'MainThread': missing ScriptRunContext! This warning can be ignored when running in bare mode.\n",
            "2025-05-09 05:32:44.200 Thread 'MainThread': missing ScriptRunContext! This warning can be ignored when running in bare mode.\n",
            "2025-05-09 05:32:44.201 Thread 'MainThread': missing ScriptRunContext! This warning can be ignored when running in bare mode.\n",
            "2025-05-09 05:32:44.203 Thread 'MainThread': missing ScriptRunContext! This warning can be ignored when running in bare mode.\n",
            "2025-05-09 05:32:44.204 Thread 'MainThread': missing ScriptRunContext! This warning can be ignored when running in bare mode.\n",
            "2025-05-09 05:32:44.205 Thread 'MainThread': missing ScriptRunContext! This warning can be ignored when running in bare mode.\n",
            "2025-05-09 05:32:44.222 Thread 'MainThread': missing ScriptRunContext! This warning can be ignored when running in bare mode.\n",
            "2025-05-09 05:32:44.225 Thread 'MainThread': missing ScriptRunContext! This warning can be ignored when running in bare mode.\n",
            "2025-05-09 05:32:44.226 Thread 'MainThread': missing ScriptRunContext! This warning can be ignored when running in bare mode.\n",
            "2025-05-09 05:32:44.228 Thread 'MainThread': missing ScriptRunContext! This warning can be ignored when running in bare mode.\n",
            "2025-05-09 05:32:44.229 Thread 'MainThread': missing ScriptRunContext! This warning can be ignored when running in bare mode.\n",
            "2025-05-09 05:32:44.233 Thread 'MainThread': missing ScriptRunContext! This warning can be ignored when running in bare mode.\n",
            "2025-05-09 05:32:44.235 Thread 'MainThread': missing ScriptRunContext! This warning can be ignored when running in bare mode.\n",
            "2025-05-09 05:32:44.238 Thread 'MainThread': missing ScriptRunContext! This warning can be ignored when running in bare mode.\n",
            "2025-05-09 05:32:44.243 Thread 'MainThread': missing ScriptRunContext! This warning can be ignored when running in bare mode.\n",
            "2025-05-09 05:32:44.250 Thread 'MainThread': missing ScriptRunContext! This warning can be ignored when running in bare mode.\n",
            "2025-05-09 05:32:44.251 Thread 'MainThread': missing ScriptRunContext! This warning can be ignored when running in bare mode.\n",
            "2025-05-09 05:32:44.251 Thread 'MainThread': missing ScriptRunContext! This warning can be ignored when running in bare mode.\n",
            "2025-05-09 05:32:44.252 Thread 'MainThread': missing ScriptRunContext! This warning can be ignored when running in bare mode.\n",
            "2025-05-09 05:32:44.254 Thread 'MainThread': missing ScriptRunContext! This warning can be ignored when running in bare mode.\n",
            "2025-05-09 05:32:44.255 Thread 'MainThread': missing ScriptRunContext! This warning can be ignored when running in bare mode.\n",
            "2025-05-09 05:32:44.256 Thread 'MainThread': missing ScriptRunContext! This warning can be ignored when running in bare mode.\n",
            "2025-05-09 05:32:44.260 Thread 'MainThread': missing ScriptRunContext! This warning can be ignored when running in bare mode.\n",
            "2025-05-09 05:32:44.263 Thread 'MainThread': missing ScriptRunContext! This warning can be ignored when running in bare mode.\n",
            "2025-05-09 05:32:44.264 Thread 'MainThread': missing ScriptRunContext! This warning can be ignored when running in bare mode.\n",
            "2025-05-09 05:32:44.268 Thread 'MainThread': missing ScriptRunContext! This warning can be ignored when running in bare mode.\n",
            "2025-05-09 05:32:44.268 Thread 'MainThread': missing ScriptRunContext! This warning can be ignored when running in bare mode.\n",
            "2025-05-09 05:32:44.271 Thread 'MainThread': missing ScriptRunContext! This warning can be ignored when running in bare mode.\n",
            "2025-05-09 05:32:44.272 Thread 'MainThread': missing ScriptRunContext! This warning can be ignored when running in bare mode.\n",
            "2025-05-09 05:32:44.278 Thread 'MainThread': missing ScriptRunContext! This warning can be ignored when running in bare mode.\n",
            "2025-05-09 05:32:44.280 Thread 'MainThread': missing ScriptRunContext! This warning can be ignored when running in bare mode.\n",
            "2025-05-09 05:32:44.281 Thread 'MainThread': missing ScriptRunContext! This warning can be ignored when running in bare mode.\n",
            "2025-05-09 05:32:44.283 Thread 'MainThread': missing ScriptRunContext! This warning can be ignored when running in bare mode.\n",
            "2025-05-09 05:32:44.284 Thread 'MainThread': missing ScriptRunContext! This warning can be ignored when running in bare mode.\n",
            "2025-05-09 05:32:44.288 Thread 'MainThread': missing ScriptRunContext! This warning can be ignored when running in bare mode.\n",
            "2025-05-09 05:32:44.292 Thread 'MainThread': missing ScriptRunContext! This warning can be ignored when running in bare mode.\n",
            "2025-05-09 05:32:44.294 Thread 'MainThread': missing ScriptRunContext! This warning can be ignored when running in bare mode.\n",
            "2025-05-09 05:32:44.295 Thread 'MainThread': missing ScriptRunContext! This warning can be ignored when running in bare mode.\n",
            "2025-05-09 05:32:44.297 Thread 'MainThread': missing ScriptRunContext! This warning can be ignored when running in bare mode.\n",
            "2025-05-09 05:32:44.299 Thread 'MainThread': missing ScriptRunContext! This warning can be ignored when running in bare mode.\n",
            "2025-05-09 05:32:44.300 Thread 'MainThread': missing ScriptRunContext! This warning can be ignored when running in bare mode.\n"
          ]
        }
      ]
    },
    {
      "cell_type": "code",
      "source": [
        "from pyngrok import ngrok\n",
        "from pyngrok import conf\n",
        "import time\n",
        "\n",
        "conf.get_default().auth_token = \"2wqStI4gdDSLzKe7NgOX4D2M2b4_5M4RucSLHPdJPiDnM2JSs\"\n",
        "\n",
        "# Kill any existing Streamlit processes (clean start)\n",
        "!pkill streamlit\n",
        "\n",
        "# Run the app in the background\n",
        "get_ipython().system_raw(\"streamlit run app.py &\")\n",
        "\n",
        "# Wait a moment for the server to start\n",
        "time.sleep(2)\n",
        "\n",
        "# Create the ngrok tunnel and get public URL\n",
        "public_url = ngrok.connect(8501)\n",
        "print(f\"🌐 Your Streamlit app is live at: {public_url}\")\n"
      ],
      "metadata": {
        "colab": {
          "base_uri": "https://localhost:8080/",
          "height": 0
        },
        "id": "YtK0oofYeA6J",
        "outputId": "5fa6f872-b66a-4b92-9f00-f44312423131"
      },
      "execution_count": 13,
      "outputs": [
        {
          "output_type": "stream",
          "name": "stdout",
          "text": [
            "🌐 Your Streamlit app is live at: NgrokTunnel: \"https://7683-35-188-248-180.ngrok-free.app\" -> \"http://localhost:8501\"\n"
          ]
        }
      ]
    },
    {
      "cell_type": "code",
      "source": [
        "import pandas as pd\n",
        "from sklearn.model_selection import train_test_split\n",
        "from sklearn.ensemble import RandomForestClassifier\n",
        "import pickle\n",
        "\n",
        "# Sample dummy dataset (replace with your own)\n",
        "from sklearn.datasets import make_classification\n",
        "X, y = make_classification(n_samples=1000, n_features=12, n_informative=10, random_state=42)\n",
        "\n",
        "# Split\n",
        "X_train, X_test, y_train, y_test = train_test_split(X, y, test_size=0.2, random_state=42)\n",
        "\n",
        "# Train model\n",
        "model = RandomForestClassifier()\n",
        "model.fit(X_train, y_train)\n"
      ],
      "metadata": {
        "colab": {
          "base_uri": "https://localhost:8080/",
          "height": 80
        },
        "id": "vLLd7U55g8Zs",
        "outputId": "6120bd23-529d-42fe-9c0a-8ffbc6d0d5a5"
      },
      "execution_count": 8,
      "outputs": [
        {
          "output_type": "execute_result",
          "data": {
            "text/plain": [
              "RandomForestClassifier()"
            ],
            "text/html": [
              "<style>#sk-container-id-1 {\n",
              "  /* Definition of color scheme common for light and dark mode */\n",
              "  --sklearn-color-text: #000;\n",
              "  --sklearn-color-text-muted: #666;\n",
              "  --sklearn-color-line: gray;\n",
              "  /* Definition of color scheme for unfitted estimators */\n",
              "  --sklearn-color-unfitted-level-0: #fff5e6;\n",
              "  --sklearn-color-unfitted-level-1: #f6e4d2;\n",
              "  --sklearn-color-unfitted-level-2: #ffe0b3;\n",
              "  --sklearn-color-unfitted-level-3: chocolate;\n",
              "  /* Definition of color scheme for fitted estimators */\n",
              "  --sklearn-color-fitted-level-0: #f0f8ff;\n",
              "  --sklearn-color-fitted-level-1: #d4ebff;\n",
              "  --sklearn-color-fitted-level-2: #b3dbfd;\n",
              "  --sklearn-color-fitted-level-3: cornflowerblue;\n",
              "\n",
              "  /* Specific color for light theme */\n",
              "  --sklearn-color-text-on-default-background: var(--sg-text-color, var(--theme-code-foreground, var(--jp-content-font-color1, black)));\n",
              "  --sklearn-color-background: var(--sg-background-color, var(--theme-background, var(--jp-layout-color0, white)));\n",
              "  --sklearn-color-border-box: var(--sg-text-color, var(--theme-code-foreground, var(--jp-content-font-color1, black)));\n",
              "  --sklearn-color-icon: #696969;\n",
              "\n",
              "  @media (prefers-color-scheme: dark) {\n",
              "    /* Redefinition of color scheme for dark theme */\n",
              "    --sklearn-color-text-on-default-background: var(--sg-text-color, var(--theme-code-foreground, var(--jp-content-font-color1, white)));\n",
              "    --sklearn-color-background: var(--sg-background-color, var(--theme-background, var(--jp-layout-color0, #111)));\n",
              "    --sklearn-color-border-box: var(--sg-text-color, var(--theme-code-foreground, var(--jp-content-font-color1, white)));\n",
              "    --sklearn-color-icon: #878787;\n",
              "  }\n",
              "}\n",
              "\n",
              "#sk-container-id-1 {\n",
              "  color: var(--sklearn-color-text);\n",
              "}\n",
              "\n",
              "#sk-container-id-1 pre {\n",
              "  padding: 0;\n",
              "}\n",
              "\n",
              "#sk-container-id-1 input.sk-hidden--visually {\n",
              "  border: 0;\n",
              "  clip: rect(1px 1px 1px 1px);\n",
              "  clip: rect(1px, 1px, 1px, 1px);\n",
              "  height: 1px;\n",
              "  margin: -1px;\n",
              "  overflow: hidden;\n",
              "  padding: 0;\n",
              "  position: absolute;\n",
              "  width: 1px;\n",
              "}\n",
              "\n",
              "#sk-container-id-1 div.sk-dashed-wrapped {\n",
              "  border: 1px dashed var(--sklearn-color-line);\n",
              "  margin: 0 0.4em 0.5em 0.4em;\n",
              "  box-sizing: border-box;\n",
              "  padding-bottom: 0.4em;\n",
              "  background-color: var(--sklearn-color-background);\n",
              "}\n",
              "\n",
              "#sk-container-id-1 div.sk-container {\n",
              "  /* jupyter's `normalize.less` sets `[hidden] { display: none; }`\n",
              "     but bootstrap.min.css set `[hidden] { display: none !important; }`\n",
              "     so we also need the `!important` here to be able to override the\n",
              "     default hidden behavior on the sphinx rendered scikit-learn.org.\n",
              "     See: https://github.com/scikit-learn/scikit-learn/issues/21755 */\n",
              "  display: inline-block !important;\n",
              "  position: relative;\n",
              "}\n",
              "\n",
              "#sk-container-id-1 div.sk-text-repr-fallback {\n",
              "  display: none;\n",
              "}\n",
              "\n",
              "div.sk-parallel-item,\n",
              "div.sk-serial,\n",
              "div.sk-item {\n",
              "  /* draw centered vertical line to link estimators */\n",
              "  background-image: linear-gradient(var(--sklearn-color-text-on-default-background), var(--sklearn-color-text-on-default-background));\n",
              "  background-size: 2px 100%;\n",
              "  background-repeat: no-repeat;\n",
              "  background-position: center center;\n",
              "}\n",
              "\n",
              "/* Parallel-specific style estimator block */\n",
              "\n",
              "#sk-container-id-1 div.sk-parallel-item::after {\n",
              "  content: \"\";\n",
              "  width: 100%;\n",
              "  border-bottom: 2px solid var(--sklearn-color-text-on-default-background);\n",
              "  flex-grow: 1;\n",
              "}\n",
              "\n",
              "#sk-container-id-1 div.sk-parallel {\n",
              "  display: flex;\n",
              "  align-items: stretch;\n",
              "  justify-content: center;\n",
              "  background-color: var(--sklearn-color-background);\n",
              "  position: relative;\n",
              "}\n",
              "\n",
              "#sk-container-id-1 div.sk-parallel-item {\n",
              "  display: flex;\n",
              "  flex-direction: column;\n",
              "}\n",
              "\n",
              "#sk-container-id-1 div.sk-parallel-item:first-child::after {\n",
              "  align-self: flex-end;\n",
              "  width: 50%;\n",
              "}\n",
              "\n",
              "#sk-container-id-1 div.sk-parallel-item:last-child::after {\n",
              "  align-self: flex-start;\n",
              "  width: 50%;\n",
              "}\n",
              "\n",
              "#sk-container-id-1 div.sk-parallel-item:only-child::after {\n",
              "  width: 0;\n",
              "}\n",
              "\n",
              "/* Serial-specific style estimator block */\n",
              "\n",
              "#sk-container-id-1 div.sk-serial {\n",
              "  display: flex;\n",
              "  flex-direction: column;\n",
              "  align-items: center;\n",
              "  background-color: var(--sklearn-color-background);\n",
              "  padding-right: 1em;\n",
              "  padding-left: 1em;\n",
              "}\n",
              "\n",
              "\n",
              "/* Toggleable style: style used for estimator/Pipeline/ColumnTransformer box that is\n",
              "clickable and can be expanded/collapsed.\n",
              "- Pipeline and ColumnTransformer use this feature and define the default style\n",
              "- Estimators will overwrite some part of the style using the `sk-estimator` class\n",
              "*/\n",
              "\n",
              "/* Pipeline and ColumnTransformer style (default) */\n",
              "\n",
              "#sk-container-id-1 div.sk-toggleable {\n",
              "  /* Default theme specific background. It is overwritten whether we have a\n",
              "  specific estimator or a Pipeline/ColumnTransformer */\n",
              "  background-color: var(--sklearn-color-background);\n",
              "}\n",
              "\n",
              "/* Toggleable label */\n",
              "#sk-container-id-1 label.sk-toggleable__label {\n",
              "  cursor: pointer;\n",
              "  display: flex;\n",
              "  width: 100%;\n",
              "  margin-bottom: 0;\n",
              "  padding: 0.5em;\n",
              "  box-sizing: border-box;\n",
              "  text-align: center;\n",
              "  align-items: start;\n",
              "  justify-content: space-between;\n",
              "  gap: 0.5em;\n",
              "}\n",
              "\n",
              "#sk-container-id-1 label.sk-toggleable__label .caption {\n",
              "  font-size: 0.6rem;\n",
              "  font-weight: lighter;\n",
              "  color: var(--sklearn-color-text-muted);\n",
              "}\n",
              "\n",
              "#sk-container-id-1 label.sk-toggleable__label-arrow:before {\n",
              "  /* Arrow on the left of the label */\n",
              "  content: \"▸\";\n",
              "  float: left;\n",
              "  margin-right: 0.25em;\n",
              "  color: var(--sklearn-color-icon);\n",
              "}\n",
              "\n",
              "#sk-container-id-1 label.sk-toggleable__label-arrow:hover:before {\n",
              "  color: var(--sklearn-color-text);\n",
              "}\n",
              "\n",
              "/* Toggleable content - dropdown */\n",
              "\n",
              "#sk-container-id-1 div.sk-toggleable__content {\n",
              "  max-height: 0;\n",
              "  max-width: 0;\n",
              "  overflow: hidden;\n",
              "  text-align: left;\n",
              "  /* unfitted */\n",
              "  background-color: var(--sklearn-color-unfitted-level-0);\n",
              "}\n",
              "\n",
              "#sk-container-id-1 div.sk-toggleable__content.fitted {\n",
              "  /* fitted */\n",
              "  background-color: var(--sklearn-color-fitted-level-0);\n",
              "}\n",
              "\n",
              "#sk-container-id-1 div.sk-toggleable__content pre {\n",
              "  margin: 0.2em;\n",
              "  border-radius: 0.25em;\n",
              "  color: var(--sklearn-color-text);\n",
              "  /* unfitted */\n",
              "  background-color: var(--sklearn-color-unfitted-level-0);\n",
              "}\n",
              "\n",
              "#sk-container-id-1 div.sk-toggleable__content.fitted pre {\n",
              "  /* unfitted */\n",
              "  background-color: var(--sklearn-color-fitted-level-0);\n",
              "}\n",
              "\n",
              "#sk-container-id-1 input.sk-toggleable__control:checked~div.sk-toggleable__content {\n",
              "  /* Expand drop-down */\n",
              "  max-height: 200px;\n",
              "  max-width: 100%;\n",
              "  overflow: auto;\n",
              "}\n",
              "\n",
              "#sk-container-id-1 input.sk-toggleable__control:checked~label.sk-toggleable__label-arrow:before {\n",
              "  content: \"▾\";\n",
              "}\n",
              "\n",
              "/* Pipeline/ColumnTransformer-specific style */\n",
              "\n",
              "#sk-container-id-1 div.sk-label input.sk-toggleable__control:checked~label.sk-toggleable__label {\n",
              "  color: var(--sklearn-color-text);\n",
              "  background-color: var(--sklearn-color-unfitted-level-2);\n",
              "}\n",
              "\n",
              "#sk-container-id-1 div.sk-label.fitted input.sk-toggleable__control:checked~label.sk-toggleable__label {\n",
              "  background-color: var(--sklearn-color-fitted-level-2);\n",
              "}\n",
              "\n",
              "/* Estimator-specific style */\n",
              "\n",
              "/* Colorize estimator box */\n",
              "#sk-container-id-1 div.sk-estimator input.sk-toggleable__control:checked~label.sk-toggleable__label {\n",
              "  /* unfitted */\n",
              "  background-color: var(--sklearn-color-unfitted-level-2);\n",
              "}\n",
              "\n",
              "#sk-container-id-1 div.sk-estimator.fitted input.sk-toggleable__control:checked~label.sk-toggleable__label {\n",
              "  /* fitted */\n",
              "  background-color: var(--sklearn-color-fitted-level-2);\n",
              "}\n",
              "\n",
              "#sk-container-id-1 div.sk-label label.sk-toggleable__label,\n",
              "#sk-container-id-1 div.sk-label label {\n",
              "  /* The background is the default theme color */\n",
              "  color: var(--sklearn-color-text-on-default-background);\n",
              "}\n",
              "\n",
              "/* On hover, darken the color of the background */\n",
              "#sk-container-id-1 div.sk-label:hover label.sk-toggleable__label {\n",
              "  color: var(--sklearn-color-text);\n",
              "  background-color: var(--sklearn-color-unfitted-level-2);\n",
              "}\n",
              "\n",
              "/* Label box, darken color on hover, fitted */\n",
              "#sk-container-id-1 div.sk-label.fitted:hover label.sk-toggleable__label.fitted {\n",
              "  color: var(--sklearn-color-text);\n",
              "  background-color: var(--sklearn-color-fitted-level-2);\n",
              "}\n",
              "\n",
              "/* Estimator label */\n",
              "\n",
              "#sk-container-id-1 div.sk-label label {\n",
              "  font-family: monospace;\n",
              "  font-weight: bold;\n",
              "  display: inline-block;\n",
              "  line-height: 1.2em;\n",
              "}\n",
              "\n",
              "#sk-container-id-1 div.sk-label-container {\n",
              "  text-align: center;\n",
              "}\n",
              "\n",
              "/* Estimator-specific */\n",
              "#sk-container-id-1 div.sk-estimator {\n",
              "  font-family: monospace;\n",
              "  border: 1px dotted var(--sklearn-color-border-box);\n",
              "  border-radius: 0.25em;\n",
              "  box-sizing: border-box;\n",
              "  margin-bottom: 0.5em;\n",
              "  /* unfitted */\n",
              "  background-color: var(--sklearn-color-unfitted-level-0);\n",
              "}\n",
              "\n",
              "#sk-container-id-1 div.sk-estimator.fitted {\n",
              "  /* fitted */\n",
              "  background-color: var(--sklearn-color-fitted-level-0);\n",
              "}\n",
              "\n",
              "/* on hover */\n",
              "#sk-container-id-1 div.sk-estimator:hover {\n",
              "  /* unfitted */\n",
              "  background-color: var(--sklearn-color-unfitted-level-2);\n",
              "}\n",
              "\n",
              "#sk-container-id-1 div.sk-estimator.fitted:hover {\n",
              "  /* fitted */\n",
              "  background-color: var(--sklearn-color-fitted-level-2);\n",
              "}\n",
              "\n",
              "/* Specification for estimator info (e.g. \"i\" and \"?\") */\n",
              "\n",
              "/* Common style for \"i\" and \"?\" */\n",
              "\n",
              ".sk-estimator-doc-link,\n",
              "a:link.sk-estimator-doc-link,\n",
              "a:visited.sk-estimator-doc-link {\n",
              "  float: right;\n",
              "  font-size: smaller;\n",
              "  line-height: 1em;\n",
              "  font-family: monospace;\n",
              "  background-color: var(--sklearn-color-background);\n",
              "  border-radius: 1em;\n",
              "  height: 1em;\n",
              "  width: 1em;\n",
              "  text-decoration: none !important;\n",
              "  margin-left: 0.5em;\n",
              "  text-align: center;\n",
              "  /* unfitted */\n",
              "  border: var(--sklearn-color-unfitted-level-1) 1pt solid;\n",
              "  color: var(--sklearn-color-unfitted-level-1);\n",
              "}\n",
              "\n",
              ".sk-estimator-doc-link.fitted,\n",
              "a:link.sk-estimator-doc-link.fitted,\n",
              "a:visited.sk-estimator-doc-link.fitted {\n",
              "  /* fitted */\n",
              "  border: var(--sklearn-color-fitted-level-1) 1pt solid;\n",
              "  color: var(--sklearn-color-fitted-level-1);\n",
              "}\n",
              "\n",
              "/* On hover */\n",
              "div.sk-estimator:hover .sk-estimator-doc-link:hover,\n",
              ".sk-estimator-doc-link:hover,\n",
              "div.sk-label-container:hover .sk-estimator-doc-link:hover,\n",
              ".sk-estimator-doc-link:hover {\n",
              "  /* unfitted */\n",
              "  background-color: var(--sklearn-color-unfitted-level-3);\n",
              "  color: var(--sklearn-color-background);\n",
              "  text-decoration: none;\n",
              "}\n",
              "\n",
              "div.sk-estimator.fitted:hover .sk-estimator-doc-link.fitted:hover,\n",
              ".sk-estimator-doc-link.fitted:hover,\n",
              "div.sk-label-container:hover .sk-estimator-doc-link.fitted:hover,\n",
              ".sk-estimator-doc-link.fitted:hover {\n",
              "  /* fitted */\n",
              "  background-color: var(--sklearn-color-fitted-level-3);\n",
              "  color: var(--sklearn-color-background);\n",
              "  text-decoration: none;\n",
              "}\n",
              "\n",
              "/* Span, style for the box shown on hovering the info icon */\n",
              ".sk-estimator-doc-link span {\n",
              "  display: none;\n",
              "  z-index: 9999;\n",
              "  position: relative;\n",
              "  font-weight: normal;\n",
              "  right: .2ex;\n",
              "  padding: .5ex;\n",
              "  margin: .5ex;\n",
              "  width: min-content;\n",
              "  min-width: 20ex;\n",
              "  max-width: 50ex;\n",
              "  color: var(--sklearn-color-text);\n",
              "  box-shadow: 2pt 2pt 4pt #999;\n",
              "  /* unfitted */\n",
              "  background: var(--sklearn-color-unfitted-level-0);\n",
              "  border: .5pt solid var(--sklearn-color-unfitted-level-3);\n",
              "}\n",
              "\n",
              ".sk-estimator-doc-link.fitted span {\n",
              "  /* fitted */\n",
              "  background: var(--sklearn-color-fitted-level-0);\n",
              "  border: var(--sklearn-color-fitted-level-3);\n",
              "}\n",
              "\n",
              ".sk-estimator-doc-link:hover span {\n",
              "  display: block;\n",
              "}\n",
              "\n",
              "/* \"?\"-specific style due to the `<a>` HTML tag */\n",
              "\n",
              "#sk-container-id-1 a.estimator_doc_link {\n",
              "  float: right;\n",
              "  font-size: 1rem;\n",
              "  line-height: 1em;\n",
              "  font-family: monospace;\n",
              "  background-color: var(--sklearn-color-background);\n",
              "  border-radius: 1rem;\n",
              "  height: 1rem;\n",
              "  width: 1rem;\n",
              "  text-decoration: none;\n",
              "  /* unfitted */\n",
              "  color: var(--sklearn-color-unfitted-level-1);\n",
              "  border: var(--sklearn-color-unfitted-level-1) 1pt solid;\n",
              "}\n",
              "\n",
              "#sk-container-id-1 a.estimator_doc_link.fitted {\n",
              "  /* fitted */\n",
              "  border: var(--sklearn-color-fitted-level-1) 1pt solid;\n",
              "  color: var(--sklearn-color-fitted-level-1);\n",
              "}\n",
              "\n",
              "/* On hover */\n",
              "#sk-container-id-1 a.estimator_doc_link:hover {\n",
              "  /* unfitted */\n",
              "  background-color: var(--sklearn-color-unfitted-level-3);\n",
              "  color: var(--sklearn-color-background);\n",
              "  text-decoration: none;\n",
              "}\n",
              "\n",
              "#sk-container-id-1 a.estimator_doc_link.fitted:hover {\n",
              "  /* fitted */\n",
              "  background-color: var(--sklearn-color-fitted-level-3);\n",
              "}\n",
              "</style><div id=\"sk-container-id-1\" class=\"sk-top-container\"><div class=\"sk-text-repr-fallback\"><pre>RandomForestClassifier()</pre><b>In a Jupyter environment, please rerun this cell to show the HTML representation or trust the notebook. <br />On GitHub, the HTML representation is unable to render, please try loading this page with nbviewer.org.</b></div><div class=\"sk-container\" hidden><div class=\"sk-item\"><div class=\"sk-estimator fitted sk-toggleable\"><input class=\"sk-toggleable__control sk-hidden--visually\" id=\"sk-estimator-id-1\" type=\"checkbox\" checked><label for=\"sk-estimator-id-1\" class=\"sk-toggleable__label fitted sk-toggleable__label-arrow\"><div><div>RandomForestClassifier</div></div><div><a class=\"sk-estimator-doc-link fitted\" rel=\"noreferrer\" target=\"_blank\" href=\"https://scikit-learn.org/1.6/modules/generated/sklearn.ensemble.RandomForestClassifier.html\">?<span>Documentation for RandomForestClassifier</span></a><span class=\"sk-estimator-doc-link fitted\">i<span>Fitted</span></span></div></label><div class=\"sk-toggleable__content fitted\"><pre>RandomForestClassifier()</pre></div> </div></div></div></div>"
            ]
          },
          "metadata": {},
          "execution_count": 8
        }
      ]
    },
    {
      "cell_type": "code",
      "source": [
        "# Save model to a pickle file\n",
        "with open('model.pkl', 'wb') as f:\n",
        "    pickle.dump(model, f)\n",
        "\n",
        "print(\"✅ Model saved as model.pkl\")\n"
      ],
      "metadata": {
        "colab": {
          "base_uri": "https://localhost:8080/",
          "height": 0
        },
        "id": "s1JJ0BRlhjrO",
        "outputId": "58d0d67c-deef-4d94-d62e-a1001b31557f"
      },
      "execution_count": 9,
      "outputs": [
        {
          "output_type": "stream",
          "name": "stdout",
          "text": [
            "✅ Model saved as model.pkl\n"
          ]
        }
      ]
    },
    {
      "cell_type": "code",
      "source": [
        "from google.colab import files\n",
        "files.download(\"model.pkl\")\n"
      ],
      "metadata": {
        "colab": {
          "base_uri": "https://localhost:8080/",
          "height": 17
        },
        "id": "iFB8_lEthomK",
        "outputId": "083c474d-2bc6-4161-ca97-5df5de430f32"
      },
      "execution_count": 10,
      "outputs": [
        {
          "output_type": "display_data",
          "data": {
            "text/plain": [
              "<IPython.core.display.Javascript object>"
            ],
            "application/javascript": [
              "\n",
              "    async function download(id, filename, size) {\n",
              "      if (!google.colab.kernel.accessAllowed) {\n",
              "        return;\n",
              "      }\n",
              "      const div = document.createElement('div');\n",
              "      const label = document.createElement('label');\n",
              "      label.textContent = `Downloading \"${filename}\": `;\n",
              "      div.appendChild(label);\n",
              "      const progress = document.createElement('progress');\n",
              "      progress.max = size;\n",
              "      div.appendChild(progress);\n",
              "      document.body.appendChild(div);\n",
              "\n",
              "      const buffers = [];\n",
              "      let downloaded = 0;\n",
              "\n",
              "      const channel = await google.colab.kernel.comms.open(id);\n",
              "      // Send a message to notify the kernel that we're ready.\n",
              "      channel.send({})\n",
              "\n",
              "      for await (const message of channel.messages) {\n",
              "        // Send a message to notify the kernel that we're ready.\n",
              "        channel.send({})\n",
              "        if (message.buffers) {\n",
              "          for (const buffer of message.buffers) {\n",
              "            buffers.push(buffer);\n",
              "            downloaded += buffer.byteLength;\n",
              "            progress.value = downloaded;\n",
              "          }\n",
              "        }\n",
              "      }\n",
              "      const blob = new Blob(buffers, {type: 'application/binary'});\n",
              "      const a = document.createElement('a');\n",
              "      a.href = window.URL.createObjectURL(blob);\n",
              "      a.download = filename;\n",
              "      div.appendChild(a);\n",
              "      a.click();\n",
              "      div.remove();\n",
              "    }\n",
              "  "
            ]
          },
          "metadata": {}
        },
        {
          "output_type": "display_data",
          "data": {
            "text/plain": [
              "<IPython.core.display.Javascript object>"
            ],
            "application/javascript": [
              "download(\"download_7026592e-272c-4ddc-8146-8a16381aa019\", \"model.pkl\", 1238138)"
            ]
          },
          "metadata": {}
        }
      ]
    }
  ]
}